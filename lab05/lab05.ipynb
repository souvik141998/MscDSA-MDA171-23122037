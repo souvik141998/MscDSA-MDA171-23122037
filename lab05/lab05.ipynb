{
  "cells": [
    {
      "cell_type": "code",
      "execution_count": 1,
      "metadata": {
        "colab": {
          "base_uri": "https://localhost:8080/"
        },
        "id": "N9mijvcshIIe",
        "outputId": "630f67c7-ca9a-4a62-8e4a-56c3c2f61d2e"
      },
      "outputs": [
        {
          "name": "stdout",
          "output_type": "stream",
          "text": [
            "Results for the first 5 rows:\n",
            "Dahi_Bora, 10, 15, 150\n",
            "coffee, 10, 300, 3000\n",
            "Kheer, 7, 20, 140\n",
            "Reshmi_Kabab, 2, 50, 100\n",
            "Reshmi_Kabab, 2, 300, 600\n",
            "\n",
            "Results for the last 10 rows:\n",
            "coffee, 4, 50, 200\n",
            "Dahi_Bora, 4, 30, 120\n",
            "Coke, 12, 30, 360\n",
            "Dahi_Bora, 2, 80, 160\n",
            "Coke, 4, 160, 640\n",
            "Rosogolla, 15, 100, 1500\n",
            "Dahi_Bora, 1, 80, 80\n",
            "Biriyani, 6, 80, 480\n",
            "coffee, 15, 20, 300\n",
            "Pulau, 1, 300, 300\n"
          ]
        }
      ],
      "source": [
        "import random\n",
        "import csv\n",
        "\n",
        "Item = [\"coffee\", \"Reshmi_Kabab\", \"Dahi_Bora\", \"Pulau\", \"Biriyani\", \"Chicken_Chap\", \"Rosogolla\", \"Kheer\", \"Coke\", \"Ice_Cream\"]\n",
        "Quantity = [2, 4, 6, 3, 5, 7, 10, 1, 12, 15]\n",
        "Price = [20, 50, 15, 100, 300, 160, 10, 30, 40, 80]\n",
        "\n",
        "with open(\"23122037.csv\", \"w\", newline='') as file:\n",
        "    csv_writer = csv.writer(file)\n",
        "    csv_writer.writerow([\"Item\", \"Quantity\", \"UnitPrice\", \"TotalCost\"])  # Add TotalCost column\n",
        "\n",
        "    for _ in range(100):\n",
        "        r1 = random.randint(0, 9)\n",
        "        r2 = random.randint(0, 9)\n",
        "        r3 = random.randint(0, 9)\n",
        "        item = Item[r1]\n",
        "        quantity = Quantity[r2]\n",
        "        unit_price = Price[r3]\n",
        "        total_cost = quantity * unit_price  # Calculate the total cost\n",
        "\n",
        "        csv_writer.writerow([item, quantity, unit_price, total_cost])\n",
        "file.close()\n",
        "\n",
        "# Read and display the results for the first 5 rows and the last 10 rows\n",
        "with open(\"23122037.csv\", \"r\") as file:\n",
        "    csv_reader = csv.reader(file)\n",
        "    header = next(csv_reader)  # Skip the header row\n",
        "    data = [row for row in csv_reader]\n",
        "\n",
        "# Display the results for the first 5 rows\n",
        "print(\"Results for the first 5 rows:\")\n",
        "for row in data[:5]:\n",
        "    print(f\"{row[0]}, {row[1]}, {row[2]}, {row[3]}\")\n",
        "\n",
        "# Display the results for the last 10 rows\n",
        "print(\"\\nResults for the last 10 rows:\")\n",
        "for row in data[-10:]:\n",
        "    print(f\"{row[0]}, {row[1]}, {row[2]}, {row[3]}\")\n"
      ]
    },
    {
      "cell_type": "code",
      "execution_count": 2,
      "metadata": {
        "colab": {
          "base_uri": "https://localhost:8080/"
        },
        "id": "64uX8_hqCUwe",
        "outputId": "7e7d486b-e2d3-4165-e4fb-75001787f40d"
      },
      "outputs": [
        {
          "name": "stdout",
          "output_type": "stream",
          "text": [
            "Item Name | Total Quantity | Total\n",
            "coffee | 66 | 6205\n",
            "Kheer | 43 | 1820\n",
            "Reshmi_Kabab | 48 | 4920\n",
            "Pulau | 34 | 2790\n",
            "Rosogolla | 68 | 3635\n",
            "Coke | 109 | 10150\n",
            "Chicken_Chap | 58 | 1720\n",
            "Ice_Cream | 80 | 5285\n",
            "Dahi_Bora | 52 | 3390\n",
            "Biriyani | 46 | 2385\n",
            "\n",
            "Minimum and Maximum Prices for Each Item Sold:\n",
            "coffee | Min Price: 15 | Max Price: 300\n",
            "Kheer | Min Price: 10 | Max Price: 300\n",
            "Reshmi_Kabab | Min Price: 20 | Max Price: 300\n",
            "Pulau | Min Price: 10 | Max Price: 300\n",
            "Rosogolla | Min Price: 10 | Max Price: 300\n",
            "Coke | Min Price: 10 | Max Price: 300\n",
            "Chicken_Chap | Min Price: 10 | Max Price: 160\n",
            "Ice_Cream | Min Price: 10 | Max Price: 300\n",
            "Dahi_Bora | Min Price: 20 | Max Price: 160\n",
            "Biriyani | Min Price: 15 | Max Price: 160\n"
          ]
        }
      ],
      "source": [
        "# Initialize lists to store totals, min prices, and max prices\n",
        "item_names = []\n",
        "item_totals = []\n",
        "min_prices = []\n",
        "max_prices = []\n",
        "\n",
        "# Loop through the data to calculate totals, min prices, and max prices\n",
        "for row in data[1:]:  # Skip the header row\n",
        "    item = row[0]\n",
        "    quantity = int(row[1])\n",
        "    price = int(row[2])\n",
        "\n",
        "    # Check if the item is already in the list, if not, add it\n",
        "    if item not in item_names:\n",
        "        item_names.append(item)\n",
        "        item_totals.append(0)\n",
        "        min_prices.append(price)\n",
        "        max_prices.append(price)\n",
        "\n",
        "    # Find the index of the item in the list\n",
        "    item_index = item_names.index(item)\n",
        "\n",
        "    # Calculate the total cost for the item\n",
        "    item_totals[item_index] += quantity * price\n",
        "\n",
        "    # Update min price for the item\n",
        "    min_prices[item_index] = min(min_prices[item_index], price)\n",
        "\n",
        "    # Update max price for the item\n",
        "    max_prices[item_index] = max(max_prices[item_index], price)\n",
        "\n",
        "# Print the totals for each unique item\n",
        "print(\"Item Name | Total Quantity | Total\")\n",
        "for i, item in enumerate(item_names):\n",
        "    total_quantity = sum([int(row[1]) for row in data[1:] if row[0] == item])\n",
        "    print(f\"{item} | {total_quantity} | {item_totals[i]}\")\n",
        "\n",
        "# Print the minimum and maximum prices for each item sold\n",
        "print(\"\\nMinimum and Maximum Prices for Each Item Sold:\")\n",
        "for i, item in enumerate(item_names):\n",
        "    print(f\"{item} | Min Price: {min_prices[i]} | Max Price: {max_prices[i]}\")\n"
      ]
    },
    {
      "cell_type": "code",
      "execution_count": 2,
      "metadata": {
        "id": "3K6AmNGMqZuC"
      },
      "outputs": [],
      "source": []
    }
  ],
  "metadata": {
    "colab": {
      "provenance": []
    },
    "kernelspec": {
      "display_name": "Python 3",
      "language": "python",
      "name": "python3"
    },
    "language_info": {
      "codemirror_mode": {
        "name": "ipython",
        "version": 3
      },
      "file_extension": ".py",
      "mimetype": "text/x-python",
      "name": "python",
      "nbconvert_exporter": "python",
      "pygments_lexer": "ipython3",
      "version": "3.11.4"
    },
    "orig_nbformat": 4
  },
  "nbformat": 4,
  "nbformat_minor": 0
}
