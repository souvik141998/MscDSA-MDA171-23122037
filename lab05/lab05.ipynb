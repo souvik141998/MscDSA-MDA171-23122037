{
 "cells": [
  {
   "cell_type": "code",
   "execution_count": 15,
   "metadata": {},
   "outputs": [],
   "source": [
    "import random\n",
    "Item = [\"coffee\",\"Reshmi_Kabab\",\"Dahi_Bora\",\"Pulau\",\"Biriyani\",\"Chicken_Chap\",\"Rosogolla\",\"Kheer\",\"Coke\",\"Ice_Cream\"]\n",
    "Quantity = [2,4,6,3,5,7,10,1,12,15]\n",
    "Price = [20,50,15,100,300,160,10,30,40,80]\n",
    "Total=[]\n",
    "def FoodItems(Item,Quantity,Price):\n",
    "    file=open(\"Practise.csv\",\"w+\")\n",
    "    for i in range(100):\n",
    "        items=random.randint(0,9)\n",
    "        quantity=random.randint(0,9)\n",
    "        price = random.randint(0,9)\n",
    "        total=Quantity[quantity]*Price[price]\n",
    "       \n",
    "        file.write(Item[items]+\",\"+\"\\t\"+str(Quantity[quantity])+\",\"+\"\\t\"+str(Price[price])+\",\"+\"\\t\"+\"Total\"+str(total)+\" \\n \")\n",
    "\n",
    " "
   ]
  },
  {
   "cell_type": "code",
   "execution_count": 16,
   "metadata": {},
   "outputs": [
    {
     "ename": "FileNotFoundError",
     "evalue": "[Errno 2] No such file or directory: 'Practise.csv'",
     "output_type": "error",
     "traceback": [
      "\u001b[1;31m---------------------------------------------------------------------------\u001b[0m",
      "\u001b[1;31mFileNotFoundError\u001b[0m                         Traceback (most recent call last)",
      "\u001b[1;32md:\\Python\\git\\MscDSA-MDA171-23122037\\lab05\\lab05.ipynb Cell 2\u001b[0m line \u001b[0;36m1\n\u001b[1;32m----> <a href='vscode-notebook-cell:/d%3A/Python/git/MscDSA-MDA171-23122037/lab05/lab05.ipynb#W1sZmlsZQ%3D%3D?line=0'>1</a>\u001b[0m file \u001b[39m=\u001b[39m \u001b[39mopen\u001b[39;49m(\u001b[39m\"\u001b[39;49m\u001b[39mPractise.csv\u001b[39;49m\u001b[39m\"\u001b[39;49m,\u001b[39m\"\u001b[39;49m\u001b[39mr+\u001b[39;49m\u001b[39m\"\u001b[39;49m)\n\u001b[0;32m      <a href='vscode-notebook-cell:/d%3A/Python/git/MscDSA-MDA171-23122037/lab05/lab05.ipynb#W1sZmlsZQ%3D%3D?line=1'>2</a>\u001b[0m \u001b[39mfor\u001b[39;00m lines \u001b[39min\u001b[39;00m \u001b[39mrange\u001b[39m(\u001b[39m90\u001b[39m,\u001b[39m100\u001b[39m):\n\u001b[0;32m      <a href='vscode-notebook-cell:/d%3A/Python/git/MscDSA-MDA171-23122037/lab05/lab05.ipynb#W1sZmlsZQ%3D%3D?line=2'>3</a>\u001b[0m     lines \u001b[39m=\u001b[39m file\u001b[39m.\u001b[39mreadline()\n",
      "File \u001b[1;32mc:\\Users\\SOUVIK\\AppData\\Local\\Programs\\Python\\Python311\\Lib\\site-packages\\IPython\\core\\interactiveshell.py:284\u001b[0m, in \u001b[0;36m_modified_open\u001b[1;34m(file, *args, **kwargs)\u001b[0m\n\u001b[0;32m    277\u001b[0m \u001b[39mif\u001b[39;00m file \u001b[39min\u001b[39;00m {\u001b[39m0\u001b[39m, \u001b[39m1\u001b[39m, \u001b[39m2\u001b[39m}:\n\u001b[0;32m    278\u001b[0m     \u001b[39mraise\u001b[39;00m \u001b[39mValueError\u001b[39;00m(\n\u001b[0;32m    279\u001b[0m         \u001b[39mf\u001b[39m\u001b[39m\"\u001b[39m\u001b[39mIPython won\u001b[39m\u001b[39m'\u001b[39m\u001b[39mt let you open fd=\u001b[39m\u001b[39m{\u001b[39;00mfile\u001b[39m}\u001b[39;00m\u001b[39m by default \u001b[39m\u001b[39m\"\u001b[39m\n\u001b[0;32m    280\u001b[0m         \u001b[39m\"\u001b[39m\u001b[39mas it is likely to crash IPython. If you know what you are doing, \u001b[39m\u001b[39m\"\u001b[39m\n\u001b[0;32m    281\u001b[0m         \u001b[39m\"\u001b[39m\u001b[39myou can use builtins\u001b[39m\u001b[39m'\u001b[39m\u001b[39m open.\u001b[39m\u001b[39m\"\u001b[39m\n\u001b[0;32m    282\u001b[0m     )\n\u001b[1;32m--> 284\u001b[0m \u001b[39mreturn\u001b[39;00m io_open(file, \u001b[39m*\u001b[39;49margs, \u001b[39m*\u001b[39;49m\u001b[39m*\u001b[39;49mkwargs)\n",
      "\u001b[1;31mFileNotFoundError\u001b[0m: [Errno 2] No such file or directory: 'Practise.csv'"
     ]
    }
   ],
   "source": [
    "file = open(\"Practise.csv\",\"r+\")\n",
    "for lines in range(90,100):\n",
    "    lines = file.readline()\n",
    "    print(lines)"
   ]
  },
  {
   "cell_type": "code",
   "execution_count": 13,
   "metadata": {},
   "outputs": [
    {
     "name": "stdout",
     "output_type": "stream",
     "text": [
      "90\n",
      "Reshmi kabab,4,50\t Total =200\n",
      "91\n",
      "Chicken chap,4,40\t Total =160\n",
      "92\n",
      "Dahi bora,3,15\t Total =45\n",
      "93\n",
      "Dahi bora,4,15\t Total =60\n",
      "94\n",
      "Biriyani,2,80\t Total =160\n",
      "95\n",
      "Dahi bora,7,40\t Total =280\n",
      "96\n",
      "Reshmi kabab,12,15\t Total =180\n",
      "97\n",
      "coffee,1,160\t Total =160\n",
      "98\n",
      "Chicken chap,7,40\t Total =280\n",
      "99\n",
      "ice Cream,15,30\t Total =450\n",
      "100\n",
      "Rosogolla,6,10\t Total =60\n"
     ]
    }
   ],
   "source": [
    "file = open(\"23122037.csv\" , \"r+\")\n",
    "for p in range(90,100+1):\n",
    "    print(p)\n",
    "    texts=file.readline()\n",
    "    if not texts:\n",
    "        break\n",
    "    print(texts.strip())\n",
    "    "
   ]
  },
  {
   "cell_type": "code",
   "execution_count": 17,
   "metadata": {},
   "outputs": [],
   "source": [
    "# Calculate the total cost for each unique item in the dataset.\n",
    "# Item Name | Total Quantity | Total\n",
    "# Initialize a variable to store the total guest count, the total business is found.\n",
    "totalcount_coffee = 0\n",
    "totalcount_Reshmi_Kabab = 0\n",
    "totalcount_Dahi_Bora = 0\n",
    "totalcount_Pulau = 0\n",
    "totalcount_Biriyani = 0\n",
    "totalcount_Chicken_Chap = 0\n",
    "totalcount_Rosogolla = 0\n",
    "totalcount_Kheer = 0\n",
    "totalcount_Coke = 0\n",
    "totalcount_Ice_Cream = 0\n",
    "\n",
    "\n",
    "netsales_coffee=1\n",
    "netsales_Reshmi_Kabab = 1\n",
    "netsales_Dahi_Bora = 1\n",
    "netsales_Pulau = 1\n",
    "netsales_Biriyani = 1\n",
    "netsales_Chicken_Chap = 1\n",
    "netsales_Rosogolla = 1\n",
    "netsales_Kheer = 1\n",
    "netsales_Coke = 1\n",
    "netsales_Ice_Cream = 1"
   ]
  },
  {
   "cell_type": "code",
   "execution_count": 18,
   "metadata": {},
   "outputs": [],
   "source": [
    "Itemdict = {}\n",
    "coffee_price =[]\n",
    "Reshmi_Kabab_price = []\n",
    "Dahi_Bora_price = []\n",
    "Pulau_price = []\n",
    "Biriyani_price = []\n",
    "Chicken_Chap_price = []\n",
    "Rosogolla_price = []\n",
    "Kheer_price = []\n",
    "Coke_price = []\n",
    "Ice_Cream_price = []"
   ]
  },
  {
   "cell_type": "code",
   "execution_count": null,
   "metadata": {},
   "outputs": [],
   "source": []
  }
 ],
 "metadata": {
  "kernelspec": {
   "display_name": "Python 3",
   "language": "python",
   "name": "python3"
  },
  "language_info": {
   "codemirror_mode": {
    "name": "ipython",
    "version": 3
   },
   "file_extension": ".py",
   "mimetype": "text/x-python",
   "name": "python",
   "nbconvert_exporter": "python",
   "pygments_lexer": "ipython3",
   "version": "3.11.4"
  },
  "orig_nbformat": 4
 },
 "nbformat": 4,
 "nbformat_minor": 2
}
