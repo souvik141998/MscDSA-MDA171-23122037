{
 "cells": [
  {
   "cell_type": "code",
   "execution_count": 4,
   "metadata": {},
   "outputs": [
    {
     "name": "stdout",
     "output_type": "stream",
     "text": [
      "Total no of vowels:  5\n",
      "Occurrence of a:  0\n",
      "Occurrence of e:  0\n",
      "Occurrence of i:  1\n",
      "Occurrence of o:  2\n",
      "Occurrence of u:  2\n",
      "Percentage of vowels in the given string: 33.33%\n"
     ]
    }
   ],
   "source": [
    "def Vowel_identify():\n",
    "    # Define a list of vowels\n",
    "    Vowels = [\"a\", \"e\", \"i\", \"o\", \"u\"]\n",
    "\n",
    "    # Initialize variables to count the total vowels and each individual vowel\n",
    "    count = 0\n",
    "    a_count = 0\n",
    "    e_count = 0\n",
    "    i_count = 0\n",
    "    o_count = 0\n",
    "    u_count = 0\n",
    "\n",
    "    # Ask the user to input a string\n",
    "    string = input(\"Enter a string: \")\n",
    "\n",
    "    # Remove spaces from the input string and convert it to lowercase\n",
    "    string_1 = string.replace(\" \", \"\").lower()\n",
    "\n",
    "    # Loop through each character in the modified lowercase string\n",
    "    for item in string_1:\n",
    "        # Check if the character is in the list of vowels and update the total count\n",
    "        if item in Vowels:\n",
    "            count += 1\n",
    "\n",
    "        # Check if the character is each individual vowel and update their respective counts\n",
    "        if item == 'a':\n",
    "            a_count += 1\n",
    "        elif item == 'e':\n",
    "            e_count += 1\n",
    "        elif item == 'i':\n",
    "            i_count += 1\n",
    "        elif item == 'o':\n",
    "            o_count += 1\n",
    "        elif item == 'u':\n",
    "            u_count += 1\n",
    "\n",
    "    # Calculate the total number of characters in the modified lowercase string\n",
    "    total_characters = len(string_1)\n",
    "\n",
    "    # Check if there are no characters in the input string\n",
    "    if total_characters == 0:\n",
    "        print(\"No characters in the input string.\")\n",
    "        return\n",
    "\n",
    "    # Print the counts of total vowels and each individual vowel\n",
    "    print(\"Total no of vowels: \", count)\n",
    "    print(\"Occurrence of a: \", a_count)\n",
    "    print(\"Occurrence of e: \", e_count)\n",
    "    print(\"Occurrence of i: \", i_count)\n",
    "    print(\"Occurrence of o: \", o_count)\n",
    "    print(\"Occurrence of u: \", u_count)\n",
    "\n",
    "    # Calculate the percentage of vowels in the given string\n",
    "    percentage = (count / total_characters) * 100\n",
    "\n",
    "    # Print the percentage with two decimal places\n",
    "    print(\"Percentage of vowels in the given string: {:.2f}%\".format(percentage))\n",
    "\n",
    "# Call the Vowel_identify function to start the program\n",
    "Vowel_identify()"
   ]
  },
  {
   "cell_type": "code",
   "execution_count": 9,
   "metadata": {},
   "outputs": [
    {
     "name": "stdout",
     "output_type": "stream",
     "text": [
      "Total no of vowels:  2\n",
      "Occurrence of a:  1\n",
      "Occurrence of e:  0\n",
      "Occurrence of i:  1\n",
      "Occurrence of o:  0\n",
      "Occurrence of u:  0\n",
      "Percentage of vowels in the given string: 25.00%\n"
     ]
    }
   ],
   "source": [
    "Vowel_identify()\n",
    "\n"
   ]
  },
  {
   "cell_type": "code",
   "execution_count": 10,
   "metadata": {},
   "outputs": [
    {
     "name": "stdout",
     "output_type": "stream",
     "text": [
      "Total no of vowels:  4\n",
      "Occurrence of a:  2\n",
      "Occurrence of e:  0\n",
      "Occurrence of i:  1\n",
      "Occurrence of o:  0\n",
      "Occurrence of u:  1\n",
      "Percentage of vowels in the given string: 40.00%\n"
     ]
    }
   ],
   "source": [
    "Vowel_identify()"
   ]
  },
  {
   "cell_type": "code",
   "execution_count": null,
   "metadata": {},
   "outputs": [],
   "source": []
  }
 ],
 "metadata": {
  "kernelspec": {
   "display_name": "Python 3",
   "language": "python",
   "name": "python3"
  },
  "language_info": {
   "codemirror_mode": {
    "name": "ipython",
    "version": 3
   },
   "file_extension": ".py",
   "mimetype": "text/x-python",
   "name": "python",
   "nbconvert_exporter": "python",
   "pygments_lexer": "ipython3",
   "version": "3.11.4"
  },
  "orig_nbformat": 4
 },
 "nbformat": 4,
 "nbformat_minor": 2
}
