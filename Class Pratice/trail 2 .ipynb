{
 "cells": [
  {
   "cell_type": "code",
   "execution_count": null,
   "metadata": {},
   "outputs": [],
   "source": [
    "#if expression ;\n",
    "# statements under if"
   ]
  },
  {
   "cell_type": "code",
   "execution_count": 2,
   "metadata": {},
   "outputs": [
    {
     "name": "stdout",
     "output_type": "stream",
     "text": [
      "start the program\n",
      "program End\n"
     ]
    }
   ],
   "source": [
    "print(\"start the program\")\n",
    "a = 8\n",
    "if a == 5:\n",
    "    print(\"the value is five\")\n",
    "print(\"program End\")"
   ]
  },
  {
   "cell_type": "code",
   "execution_count": 3,
   "metadata": {},
   "outputs": [
    {
     "name": "stdout",
     "output_type": "stream",
     "text": [
      "start the program\n",
      "the value is five\n",
      "program End\n"
     ]
    }
   ],
   "source": [
    "print(\"start the program\")\n",
    "a = int(input(\"Enter a number\"))\n",
    "if a == 5:\n",
    "    print(\"the value is five\")\n",
    "print(\"program End\")"
   ]
  },
  {
   "cell_type": "code",
   "execution_count": 4,
   "metadata": {},
   "outputs": [
    {
     "name": "stdout",
     "output_type": "stream",
     "text": [
      "start the program\n",
      "the value is five\n",
      "Program End\n"
     ]
    }
   ],
   "source": [
    "print(\"start the program\")\n",
    "a = int(input(\"Enter a number\"))\n",
    "if a == 5:\n",
    "    print(\"the value is five\")\n",
    "else:\n",
    "        print(\"this is else part test\")\n",
    "print(\"Program End\")"
   ]
  },
  {
   "cell_type": "code",
   "execution_count": 7,
   "metadata": {},
   "outputs": [
    {
     "name": "stdout",
     "output_type": "stream",
     "text": [
      "start the program\n",
      "this is else part test\n",
      "this will work irrespective of if or else\n",
      "enter the number is 4\n",
      "program End\n"
     ]
    }
   ],
   "source": [
    "print(\"start the program\")\n",
    "a = int(input(\"Enter a number\"))\n",
    "if a == 5:\n",
    "    print(\"the value is five\")\n",
    "else:\n",
    "        print(\"this is else part test\")\n",
    "print(\"this will work irrespective of if or else\")\n",
    "print(\"enter the number is\" ,a)\n",
    "print(\"program End\")"
   ]
  },
  {
   "cell_type": "markdown",
   "metadata": {},
   "source": [
    "Write a program to check if the entered number is odd or even."
   ]
  },
  {
   "cell_type": "code",
   "execution_count": 11,
   "metadata": {},
   "outputs": [
    {
     "name": "stdout",
     "output_type": "stream",
     "text": [
      "start a program\n",
      "this is even\n",
      "end program\n"
     ]
    }
   ],
   "source": [
    "print(\"start a program\")\n",
    "a = int(input(\"enter the number\"))\n",
    "if a%2==0:\n",
    "        print(\"this is even\")\n",
    "else:\n",
    "    print(\"this is odd\")\n",
    "print(\"end program\")"
   ]
  },
  {
   "cell_type": "code",
   "execution_count": 12,
   "metadata": {},
   "outputs": [],
   "source": [
    "# if condition:\n",
    "#    if condition:\n",
    "#       print(\"second if\")\n",
    "#else:\n",
    "#   if condition:\n",
    "#        print(\"hello\")\n",
    "#           if condition:\n",
    "#               print(\"hey\")\n",
    "#       else:\n",
    "#           print(\"exit\")"
   ]
  },
  {
   "cell_type": "markdown",
   "metadata": {},
   "source": [
    "Read 3 numbers from user and print the largest among them\n"
   ]
  },
  {
   "cell_type": "markdown",
   "metadata": {},
   "source": [
    "with the same inputs, try to sort the numbers in ascending or descdenting order based on your choice"
   ]
  },
  {
   "cell_type": "code",
   "execution_count": null,
   "metadata": {},
   "outputs": [],
   "source": [
    "Print(\"start the program\")\n",
    "a=int(input(\"enter the 1st number\"))\n",
    "b=int(input(\"enter the 2nd number\"))\n",
    "c=int(input(\"enter the 3rd number\"))\n",
    "if a>b>c:\n",
    "    print(a)\n",
    "\n"
   ]
  },
  {
   "cell_type": "code",
   "execution_count": 1,
   "metadata": {},
   "outputs": [],
   "source": [
    "# for\n",
    "# while\n"
   ]
  },
  {
   "cell_type": "code",
   "execution_count": 2,
   "metadata": {},
   "outputs": [
    {
     "name": "stdout",
     "output_type": "stream",
     "text": [
      "t\n",
      "h\n",
      "i\n",
      "s\n",
      " \n",
      "i\n",
      "s\n",
      " \n",
      "a\n",
      " \n",
      "s\n",
      "t\n",
      "r\n",
      "i\n",
      "n\n",
      "g\n"
     ]
    }
   ],
   "source": [
    "for x in \"this is a string\":\n",
    "    print(x)"
   ]
  },
  {
   "cell_type": "code",
   "execution_count": 9,
   "metadata": {},
   "outputs": [
    {
     "name": "stdout",
     "output_type": "stream",
     "text": [
      "this is a string \n",
      "this will go in new line\n",
      "42\n",
      "42\n"
     ]
    }
   ],
   "source": [
    " msg = \"this is a string \\nthis will go in new line\" \n",
    "print(msg)\n",
    "print(len(msg)) #get  the number of character\n",
    "msg =msg . strip()\n",
    "print(len(msg))"
   ]
  },
  {
   "cell_type": "code",
   "execution_count": 8,
   "metadata": {},
   "outputs": [
    {
     "name": "stdout",
     "output_type": "stream",
     "text": [
      "0\n",
      "1\n",
      "2\n",
      "3\n",
      "4\n",
      "5\n",
      "6\n",
      "7\n",
      "8\n",
      "9\n"
     ]
    }
   ],
   "source": [
    "for i in range(0,10,1):\n",
    "    print(i)"
   ]
  },
  {
   "cell_type": "markdown",
   "metadata": {},
   "source": [
    "LIST"
   ]
  },
  {
   "cell_type": "code",
   "execution_count": 12,
   "metadata": {},
   "outputs": [
    {
     "name": "stdout",
     "output_type": "stream",
     "text": [
      "22.45\n"
     ]
    }
   ],
   "source": [
    "listex = [\"item 1\", \"item2\", 10,22.45] \n",
    "# type(listex)-> gives the datatype of the variable\n",
    "print(listex[3])"
   ]
  },
  {
   "cell_type": "code",
   "execution_count": 13,
   "metadata": {},
   "outputs": [
    {
     "name": "stdout",
     "output_type": "stream",
     "text": [
      "item2\n"
     ]
    }
   ],
   "source": [
    "listex = [\"item 1\", \"item2\", 10,22.45] \n",
    "# type(listex)-> gives the datatype of the variable\n",
    "print(listex[-3])"
   ]
  },
  {
   "cell_type": "code",
   "execution_count": 14,
   "metadata": {},
   "outputs": [],
   "source": [
    "# in for loop\n",
    "# range (start,end,step)"
   ]
  },
  {
   "cell_type": "code",
   "execution_count": 15,
   "metadata": {},
   "outputs": [
    {
     "name": "stdout",
     "output_type": "stream",
     "text": [
      "item 1\n",
      "item2\n",
      "10\n",
      "22.45\n"
     ]
    }
   ],
   "source": [
    "listex = [\"item 1\", \"item2\", 10,22.45] \n",
    "# type(listex)-> gives the datatype of the variable\n",
    "for i in listex:\n",
    "    print(i)"
   ]
  },
  {
   "cell_type": "markdown",
   "metadata": {},
   "source": [
    "string"
   ]
  },
  {
   "cell_type": "code",
   "execution_count": null,
   "metadata": {},
   "outputs": [],
   "source": []
  },
  {
   "cell_type": "markdown",
   "metadata": {},
   "source": [
    "split() & strip()"
   ]
  },
  {
   "cell_type": "code",
   "execution_count": 2,
   "metadata": {},
   "outputs": [
    {
     "name": "stdout",
     "output_type": "stream",
     "text": [
      "hello. this is a string\n"
     ]
    }
   ],
   "source": [
    "a=\"hello. this is a string\"\n",
    "b=\"hello. this is a string 2\"\n",
    "a=a.strip()\n",
    "print(a)"
   ]
  },
  {
   "cell_type": "code",
   "execution_count": 1,
   "metadata": {},
   "outputs": [
    {
     "name": "stdout",
     "output_type": "stream",
     "text": [
      "hai..\n"
     ]
    }
   ],
   "source": [
    "# \"\\t   hai..  \\n\". strip()\n",
    "\n",
    "a =\"\\t  hai..  \\n\"\n",
    "a =a.strip()\n",
    "print(a)"
   ]
  },
  {
   "cell_type": "code",
   "execution_count": 6,
   "metadata": {},
   "outputs": [
    {
     "data": {
      "text/plain": [
       "['hello', 'this', 'is', 'string']"
      ]
     },
     "execution_count": 6,
     "metadata": {},
     "output_type": "execute_result"
    }
   ],
   "source": [
    "a = 'hello this is string'\n",
    "a.split()\n"
   ]
  },
  {
   "cell_type": "code",
   "execution_count": 7,
   "metadata": {},
   "outputs": [
    {
     "data": {
      "text/plain": [
       "'is'"
      ]
     },
     "execution_count": 7,
     "metadata": {},
     "output_type": "execute_result"
    }
   ],
   "source": [
    "a = 'hello this is string'\n",
    "a.split()[2]\n"
   ]
  },
  {
   "cell_type": "code",
   "execution_count": 13,
   "metadata": {},
   "outputs": [
    {
     "name": "stdout",
     "output_type": "stream",
     "text": [
      "['hello', 'this', 'is', 'string']\n"
     ]
    }
   ],
   "source": [
    "a = 'hello this is string'\n",
    "ab=a.split()\n",
    "print(ab)"
   ]
  },
  {
   "cell_type": "code",
   "execution_count": 15,
   "metadata": {},
   "outputs": [
    {
     "name": "stdout",
     "output_type": "stream",
     "text": [
      "SOUVIK\n",
      "souvik\n",
      "sOuVIK cHOWdHURy\n"
     ]
    }
   ],
   "source": [
    "print(\"souvik\" .upper())\n",
    "print(\"SOUVIK\".lower())\n",
    "print(\"SoUvik ChowDhurY\" .swapcase())"
   ]
  },
  {
   "cell_type": "code",
   "execution_count": 16,
   "metadata": {},
   "outputs": [
    {
     "name": "stdout",
     "output_type": "stream",
     "text": [
      "i\n",
      "hello\n",
      "iaman\n",
      "iamanottherstring...msg\n"
     ]
    }
   ],
   "source": [
    "msg = \"helloiamanottherstring...msg\"\n",
    "print(msg[5])\n",
    "print(msg[:5])\n",
    "print(msg[5:10])\n",
    "print(msg[5:])"
   ]
  },
  {
   "cell_type": "markdown",
   "metadata": {},
   "source": [
    ".format()"
   ]
  },
  {
   "cell_type": "code",
   "execution_count": 24,
   "metadata": {},
   "outputs": [
    {
     "name": "stdout",
     "output_type": "stream",
     "text": [
      "you are from Msds and name is Souvik\n"
     ]
    }
   ],
   "source": [
    "name = input(\"enter your name:\")\n",
    "nclass = input(\"where do you belong to:\")\n",
    "print(\"you are from {} and name is {}\".format(name,nclass))"
   ]
  },
  {
   "cell_type": "code",
   "execution_count": 1,
   "metadata": {},
   "outputs": [],
   "source": [
    "listex = [\"one\",\"two\",\"three\",\"four\"]\n"
   ]
  },
  {
   "cell_type": "code",
   "execution_count": 2,
   "metadata": {},
   "outputs": [
    {
     "name": "stdout",
     "output_type": "stream",
     "text": [
      "two is found\n"
     ]
    }
   ],
   "source": [
    "if \"two\" in listex:\n",
    "    print(\"two is found\")"
   ]
  },
  {
   "cell_type": "code",
   "execution_count": 4,
   "metadata": {},
   "outputs": [
    {
     "name": "stdout",
     "output_type": "stream",
     "text": [
      "['one', 'TWO', 'three', 'four']\n"
     ]
    }
   ],
   "source": [
    "listex[1] = \"TWO\"\n",
    "print(listex)"
   ]
  },
  {
   "cell_type": "code",
   "execution_count": 5,
   "metadata": {},
   "outputs": [
    {
     "name": "stdout",
     "output_type": "stream",
     "text": [
      "['one', 'TWO', 'three', 'four', 'five', 'six', 'seven']\n"
     ]
    }
   ],
   "source": [
    "newlist = [\"five\",\"six\",\"seven\"]\n",
    "print(listex +newlist)\n"
   ]
  },
  {
   "cell_type": "code",
   "execution_count": 6,
   "metadata": {},
   "outputs": [
    {
     "name": "stdout",
     "output_type": "stream",
     "text": [
      "['five', 'six', 'seven', 'eight']\n"
     ]
    }
   ],
   "source": [
    "newlist.append(\"eight\")\n",
    "print(newlist)"
   ]
  },
  {
   "cell_type": "code",
   "execution_count": 7,
   "metadata": {},
   "outputs": [
    {
     "name": "stdout",
     "output_type": "stream",
     "text": [
      "['TWO', 'three', 'four']\n"
     ]
    }
   ],
   "source": [
    "print(listex[1:4])"
   ]
  },
  {
   "cell_type": "code",
   "execution_count": 8,
   "metadata": {},
   "outputs": [
    {
     "name": "stdout",
     "output_type": "stream",
     "text": [
      "['TWO', 'three', 'four']\n"
     ]
    }
   ],
   "source": [
    "listex.pop(0)\n",
    "print(listex)"
   ]
  },
  {
   "cell_type": "code",
   "execution_count": 9,
   "metadata": {},
   "outputs": [
    {
     "name": "stdout",
     "output_type": "stream",
     "text": [
      "['TWO', 'four']\n"
     ]
    }
   ],
   "source": [
    "listex.remove(\"three\")\n",
    "print(listex)"
   ]
  },
  {
   "cell_type": "markdown",
   "metadata": {},
   "source": [
    "Function\n"
   ]
  },
  {
   "cell_type": "code",
   "execution_count": 30,
   "metadata": {},
   "outputs": [],
   "source": [
    "def functionName(name):\n",
    "    print(\"hi i am your first function\",name)\n"
   ]
  },
  {
   "cell_type": "code",
   "execution_count": 31,
   "metadata": {},
   "outputs": [
    {
     "name": "stdout",
     "output_type": "stream",
     "text": [
      "hi i am your first function Souvik\n"
     ]
    }
   ],
   "source": [
    "name = \"Souvik\"\n",
    "functionName(name)"
   ]
  },
  {
   "cell_type": "code",
   "execution_count": 37,
   "metadata": {},
   "outputs": [],
   "source": [
    "def functionName():\n",
    "    print(\"hi i am your first function\")\n",
    "    return[\"success\",True]"
   ]
  },
  {
   "cell_type": "code",
   "execution_count": 38,
   "metadata": {},
   "outputs": [
    {
     "name": "stdout",
     "output_type": "stream",
     "text": [
      "hi i am your first function\n",
      "['success', True]\n"
     ]
    }
   ],
   "source": [
    "name = \"Souvik\"\n",
    "ret =functionName()\n",
    "print(ret)"
   ]
  },
  {
   "cell_type": "code",
   "execution_count": 2,
   "metadata": {},
   "outputs": [
    {
     "name": "stdout",
     "output_type": "stream",
     "text": [
      "Name added successfully.\n",
      "Name added successfully.\n",
      "Final name list: ['John', 'Alice']\n",
      "The given name already exists in the list.\n",
      "Final name list: ['John', 'Alice']\n",
      "Name added successfully.\n",
      "Name added successfully.\n",
      "Final name list: ['John', 'Alice', 'Jem', 'Nia']\n",
      "The name which is largest: Alice and The name which is smallest: Nia\n"
     ]
    }
   ],
   "source": [
    "import re\n",
    "\n",
    "name_dic = []\n",
    "\n",
    "def existence_checking(name):\n",
    "    if name == 'q':\n",
    "        print(\"Final name list:\", name_dic)\n",
    "    else:\n",
    "        name = re.sub(r'[^\\w\\s]', '', name)\n",
    "        name = name.replace(\"  \", \"\")\n",
    "        \n",
    "        if name in name_dic:\n",
    "            print(\"The given name already exists in the list.\")\n",
    "        else:\n",
    "            name_dic.append(name.title())\n",
    "            print(\"Name added successfully.\")\n",
    "\n",
    "def name_viz(name_dic):\n",
    "    name_d = {}\n",
    "    for word in name_dic:\n",
    "        word_length = len(word)\n",
    "        name_d[word] = name_d.setdefault(word, word_length)\n",
    "\n",
    "    sorted_freq = sorted(name_d, key=lambda x: name_d[x], reverse=True)\n",
    "    highest_name = sorted_freq[0]\n",
    "    lowest_name = sorted_freq[-1]\n",
    "\n",
    "    return f\"The name which is largest: {highest_name} and The name which is smallest: {lowest_name}\"\n",
    "\n",
    "# Example:\n",
    "existence_checking(\"John&\")\n",
    "existence_checking(\"Alic@e\")\n",
    "existence_checking(\"q\")\n",
    "existence_checking(\"  John\")\n",
    "existence_checking(\"q\")  # Print the current name_dic\n",
    "existence_checking(\"Jem&\")\n",
    "existence_checking(\"Nia\")\n",
    "existence_checking(\"q\")\n",
    "\n",
    "\n",
    "# Call name_viz with the final name_dic after adding all the names\n",
    "result = name_viz(name_dic)\n",
    "print(result)"
   ]
  },
  {
   "cell_type": "code",
   "execution_count": null,
   "metadata": {},
   "outputs": [],
   "source": []
  }
 ],
 "metadata": {
  "kernelspec": {
   "display_name": "Python 3",
   "language": "python",
   "name": "python3"
  },
  "language_info": {
   "codemirror_mode": {
    "name": "ipython",
    "version": 3
   },
   "file_extension": ".py",
   "mimetype": "text/x-python",
   "name": "python",
   "nbconvert_exporter": "python",
   "pygments_lexer": "ipython3",
   "version": "3.11.4"
  },
  "orig_nbformat": 4
 },
 "nbformat": 4,
 "nbformat_minor": 2
}
