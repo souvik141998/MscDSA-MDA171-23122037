{
 "cells": [
  {
   "cell_type": "code",
   "execution_count": 1,
   "metadata": {},
   "outputs": [
    {
     "name": "stdout",
     "output_type": "stream",
     "text": [
      "1\n",
      "2\n",
      "3\n",
      "4\n",
      "5\n",
      "6\n",
      "7\n",
      "8\n",
      "9\n",
      "10\n"
     ]
    }
   ],
   "source": [
    "number = 1\n",
    "\n",
    "while number<=10:\n",
    "    print(number)\n",
    "    number+=1"
   ]
  },
  {
   "cell_type": "code",
   "execution_count": 6,
   "metadata": {},
   "outputs": [
    {
     "name": "stdout",
     "output_type": "stream",
     "text": [
      "sum_of_numbers:  5050\n"
     ]
    }
   ],
   "source": [
    "sum_of_numbers =0\n",
    "\n",
    "for i in range(1,101):\n",
    "    sum_of_numbers =sum_of_numbers + i\n",
    "print(\"sum_of_numbers: \",sum_of_numbers)    \n"
   ]
  },
  {
   "cell_type": "code",
   "execution_count": 8,
   "metadata": {},
   "outputs": [
    {
     "name": "stdout",
     "output_type": "stream",
     "text": [
      "The evennumbers are:  [8]\n",
      "The oddnumbers are:  [7, 5]\n"
     ]
    }
   ],
   "source": [
    "input_of_numbers =int(input(\"How many numbers you would like to add to the list\"))\n",
    "even_numbers = []\n",
    "odd_numbers = []\n",
    "for i in range(input_of_numbers):\n",
    "    input2 = int(input(\"Enter the Numbers: \"))\n",
    "    if input2%2 ==0:\n",
    "        even_numbers.append(input2)\n",
    "    else:\n",
    "        odd_numbers.append(input2)\n",
    "print(\"The evennumbers are: \",even_numbers)\n",
    "print(\"The oddnumbers are: \",odd_numbers)"
   ]
  },
  {
   "cell_type": "code",
   "execution_count": 9,
   "metadata": {},
   "outputs": [
    {
     "name": "stdout",
     "output_type": "stream",
     "text": [
      "{'Alice': 87, 'Bob': 31, 'Carol': 89}\n"
     ]
    }
   ],
   "source": [
    "import random\n",
    "\n",
    "student_grade = {}\n",
    "\n",
    "\n",
    "student_grade[\"Alice\"] = random.randint(0, 100)\n",
    "student_grade[\"Bob\"] = random.randint(0, 100)\n",
    "student_grade[\"Carol\"] = random.randint(0, 100)\n",
    "\n",
    "print(student_grade)"
   ]
  },
  {
   "cell_type": "code",
   "execution_count": null,
   "metadata": {},
   "outputs": [],
   "source": []
  }
 ],
 "metadata": {
  "kernelspec": {
   "display_name": "Python 3",
   "language": "python",
   "name": "python3"
  },
  "language_info": {
   "codemirror_mode": {
    "name": "ipython",
    "version": 3
   },
   "file_extension": ".py",
   "mimetype": "text/x-python",
   "name": "python",
   "nbconvert_exporter": "python",
   "pygments_lexer": "ipython3",
   "version": "3.11.4"
  },
  "orig_nbformat": 4
 },
 "nbformat": 4,
 "nbformat_minor": 2
}
