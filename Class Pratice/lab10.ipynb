{
 "cells": [
  {
   "cell_type": "markdown",
   "metadata": {},
   "source": [
    "write a python program that will read csv file and print the mean ,median,mode for a column of user choice. "
   ]
  },
  {
   "cell_type": "code",
   "execution_count": null,
   "metadata": {},
   "outputs": [],
   "source": [
    "def read_file(filename):\n",
    "    file = open(filename,\"r\")\n",
    "    file_header = file.readline()\n",
    "    file_content = file.readlines()\n",
    "    file_header = file_header.split(',')\n",
    "    file_content_dict = {}\n",
    "    print(file_header)\n",
    "\n",
    "    colcounter = 0\n",
    "    for item in file_header:\n",
    "        file_content_dict[item] = []\n",
    "        \n",
    "        for row in file_content:\n",
    "            file_content_dict[item].append(row.strip().split(',')[colcounter].strip().replace('\"',''))\n",
    "\n",
    "        colcounter += 1\n",
    "\n",
    "    return file_content_dict\n",
    "\n",
    "\n",
    "def sum(d_list):\n",
    "    sum_t = 0\n",
    "    for item in d_list:\n",
    "        sum_t += int(item)\n",
    "    return sum_t\n",
    "\n",
    "def mean(d_list):\n",
    "    len_of_list = len(d_list)\n",
    "    sum_of_list = sum(d_list)\n",
    "    mean_val = sum_of_list/len_of_list\n",
    "    return mean_val\n",
    "    \n",
    "def mode(d_list):\n",
    "    unique_items = list(set(d_list))\n",
    "    unique_vals_count = {}\n",
    "    for item in unique_items:\n",
    "        unique_vals_count[item._str_()] = 0\n",
    "    \n",
    "    for key in unique_vals_count.keys():\n",
    "        for item in d_list:\n",
    "            if key == item:\n",
    "                unique_vals_count[key] += 1\n",
    "\n",
    "    mode_val = 0\n",
    "    max_key = \"\"\n",
    "    for key in unique_vals_count.keys():\n",
    "        if unique_vals_count[key] > mode_val:\n",
    "            mode_val = unique_vals_count[key]\n",
    "            max_key = key\n",
    "\n",
    "    return max_key\n",
    "\n",
    "def median(d_list):\n",
    "    d_list = sorted(d_list)\n",
    "    median_val = d_list[int(len(d_list)/2)]\n",
    "    return median_val\n",
    "\n",
    "file = read_file(\"Draft_Picks_From_washington.csv\")\n",
    "print(\"Select column in the file:\")\n",
    "for item in file.keys():\n",
    "    print(item,end=\"\\t\")\n",
    "choice = input(\"\\nEnter column name for processing:\")\n",
    "print(choice)\n",
    "print(file[choice])\n",
    "print(mean(file[choice]))\n",
    "print(median(file[choice]))\n",
    "print(mode(file[choice]))"
   ]
  }
 ],
 "metadata": {
  "kernelspec": {
   "display_name": "Python 3",
   "language": "python",
   "name": "python3"
  },
  "language_info": {
   "codemirror_mode": {
    "name": "ipython",
    "version": 3
   },
   "file_extension": ".py",
   "mimetype": "text/x-python",
   "name": "python",
   "nbconvert_exporter": "python",
   "pygments_lexer": "ipython3",
   "version": "3.11.4"
  }
 },
 "nbformat": 4,
 "nbformat_minor": 2
}
