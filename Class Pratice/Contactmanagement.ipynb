{
 "cells": [
  {
   "cell_type": "code",
   "execution_count": null,
   "metadata": {},
   "outputs": [],
   "source": [
    "contact_management = {}\n",
    "def add_contact():\n",
    "    name = input(\"enter the name to be save:  \")\n",
    "    name = name.strip().title()\n",
    "    if name not in contact_management:\n",
    "        phone_no =input(\"enter the phone no: \")\n",
    "        email = input (\"enter the email: \")\n",
    "        contact_management[name] = {\"PHONE NO\": phone_no,\"EMAIL\" : email}\n",
    "        print(f\"Contact_management '{name}' added successfully!)\n",
    "    else          \n",
    "\n",
    "\n",
    "\n",
    "\n",
    "\n",
    "\n",
    "\n",
    "\n",
    "\n"
   ]
  },
  {
   "cell_type": "code",
   "execution_count": null,
   "metadata": {},
   "outputs": [],
   "source": []
  }
 ],
 "metadata": {
  "kernelspec": {
   "display_name": "Python 3",
   "language": "python",
   "name": "python3"
  },
  "language_info": {
   "codemirror_mode": {
    "name": "ipython",
    "version": 3
   },
   "file_extension": ".py",
   "mimetype": "text/x-python",
   "name": "python",
   "nbconvert_exporter": "python",
   "pygments_lexer": "ipython3",
   "version": "3.11.4"
  },
  "orig_nbformat": 4
 },
 "nbformat": 4,
 "nbformat_minor": 2
}
