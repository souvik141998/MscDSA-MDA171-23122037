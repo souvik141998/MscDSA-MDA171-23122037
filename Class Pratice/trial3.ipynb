{
 "cells": [
  {
   "cell_type": "markdown",
   "metadata": {},
   "source": [
    "Define a function that takes a list of numbers as input and return the sum of numbers, without any predefined functionss\n"
   ]
  },
  {
   "cell_type": "code",
   "execution_count": 6,
   "metadata": {},
   "outputs": [
    {
     "data": {
      "text/plain": [
       "15"
      ]
     },
     "execution_count": 6,
     "metadata": {},
     "output_type": "execute_result"
    }
   ],
   "source": [
    "list=[1,2,3,4,5]\n",
    "def sumlist(numbers):\n",
    "    sum=0\n",
    "    for item in numbers:\n",
    "        sum = sum+item\n",
    "    return sum\n",
    "sumlist(list)"
   ]
  },
  {
   "cell_type": "markdown",
   "metadata": {},
   "source": [
    "collect user inputs in the form of coma seperated values"
   ]
  },
  {
   "cell_type": "code",
   "execution_count": null,
   "metadata": {},
   "outputs": [],
   "source": [
    "number = input(\"enter the numbers in coma seperated value\")\n",
    "\n",
    "\n"
   ]
  },
  {
   "cell_type": "markdown",
   "metadata": {},
   "source": [
    "count the number odd and even numbers  in the list and print the odd numbers count&even numbers count a long with the numbers(you will have a function that will take a list of numbers, then retuns the count of odd numbers and even numbers and the new list of odd numbers and even numbers)\n"
   ]
  },
  {
   "cell_type": "code",
   "execution_count": 7,
   "metadata": {},
   "outputs": [
    {
     "ename": "NameError",
     "evalue": "name 'numbers' is not defined",
     "output_type": "error",
     "traceback": [
      "\u001b[1;31m---------------------------------------------------------------------------\u001b[0m",
      "\u001b[1;31mNameError\u001b[0m                                 Traceback (most recent call last)",
      "Cell \u001b[1;32mIn[7], line 4\u001b[0m\n\u001b[0;32m      2\u001b[0m     even \u001b[39m=\u001b[39m \u001b[39m0\u001b[39m\n\u001b[0;32m      3\u001b[0m     odd \u001b[39m=\u001b[39m \u001b[39m0\u001b[39m\n\u001b[1;32m----> 4\u001b[0m \u001b[39mfor\u001b[39;00m i \u001b[39min\u001b[39;00m numbers:\n\u001b[0;32m      5\u001b[0m     \u001b[39mif\u001b[39;00m i\u001b[39m%\u001b[39m\u001b[39m2\u001b[39m\u001b[39m==\u001b[39m\u001b[39m0\u001b[39m:\n\u001b[0;32m      6\u001b[0m         even\u001b[39m=\u001b[39meven\u001b[39m+\u001b[39m\u001b[39m1\u001b[39m\n",
      "\u001b[1;31mNameError\u001b[0m: name 'numbers' is not defined"
     ]
    }
   ],
   "source": [
    "def oddEven(listofnumbers):\n",
    "    even = 0\n",
    "    odd = 0\n",
    "for i in number:\n",
    "    if i%2==0:\n",
    "        even=even+1\n",
    "        print(\"number is even = \" , i)\n",
    "    else:\n",
    "        odd=odd+1\n",
    "        print(\"number is odd = \" ,i)"
   ]
  },
  {
   "cell_type": "code",
   "execution_count": 2,
   "metadata": {},
   "outputs": [
    {
     "name": "stdout",
     "output_type": "stream",
     "text": [
      "360\n"
     ]
    }
   ],
   "source": [
    "LIST =[5,8,9]\n",
    "m = 1\n",
    "for p in LIST:\n",
    "    m = m*p\n",
    "print(m)    \n",
    "\n"
   ]
  },
  {
   "cell_type": "markdown",
   "metadata": {},
   "source": [
    "File handling"
   ]
  },
  {
   "cell_type": "code",
   "execution_count": 13,
   "metadata": {},
   "outputs": [],
   "source": [
    "File = open(\"sample.txt\",\"w+\") #creating a file named sample.'w' will create a new file does not exist"
   ]
  },
  {
   "cell_type": "code",
   "execution_count": 16,
   "metadata": {},
   "outputs": [
    {
     "data": {
      "text/plain": [
       "34"
      ]
     },
     "execution_count": 16,
     "metadata": {},
     "output_type": "execute_result"
    }
   ],
   "source": [
    "File.write(\"this is my first line in the file\\n\") #still the file is not saved into the file"
   ]
  },
  {
   "cell_type": "code",
   "execution_count": 17,
   "metadata": {},
   "outputs": [],
   "source": [
    "File.close() #Now the file have been saved successfully"
   ]
  },
  {
   "cell_type": "code",
   "execution_count": 18,
   "metadata": {},
   "outputs": [
    {
     "data": {
      "text/plain": [
       "'this is my first line in the file\\n'"
      ]
     },
     "execution_count": 18,
     "metadata": {},
     "output_type": "execute_result"
    }
   ],
   "source": [
    "File_read = open(\"sample.txt\",\"r+\")\n",
    "File_read.readline()"
   ]
  },
  {
   "cell_type": "code",
   "execution_count": 19,
   "metadata": {},
   "outputs": [
    {
     "data": {
      "text/plain": [
       "['this is my first line in the file\\n', 'this is my first line in the file\\n']"
      ]
     },
     "execution_count": 19,
     "metadata": {},
     "output_type": "execute_result"
    }
   ],
   "source": [
    "File_read.readlines()"
   ]
  },
  {
   "cell_type": "markdown",
   "metadata": {},
   "source": [
    "Write a function, that accepts your detalis and save into a file"
   ]
  },
  {
   "cell_type": "code",
   "execution_count": 21,
   "metadata": {},
   "outputs": [],
   "source": [
    "File = open(\"sample.txt\",\"w+\") #creating a file named sample.'w' will create a new file does not exist"
   ]
  },
  {
   "cell_type": "code",
   "execution_count": 22,
   "metadata": {},
   "outputs": [
    {
     "data": {
      "text/plain": [
       "43"
      ]
     },
     "execution_count": 22,
     "metadata": {},
     "output_type": "execute_result"
    }
   ],
   "source": [
    "File.write(\"Name:SouvikChowdhury\\nReg no:23122037\\nMsc.DS\") #still the file is not saved into the file"
   ]
  },
  {
   "cell_type": "code",
   "execution_count": 23,
   "metadata": {},
   "outputs": [],
   "source": [
    "File.close() #Now the file have been saved successfully"
   ]
  },
  {
   "cell_type": "code",
   "execution_count": 3,
   "metadata": {},
   "outputs": [
    {
     "name": "stdout",
     "output_type": "stream",
     "text": [
      "name\t:\tSouvik\n",
      "\n",
      "phone\t:\t8250502870\n",
      "\n",
      "email\t:\tmail\n"
     ]
    }
   ],
   "source": [
    "def WriteMyDetails(name,phone,email):\n",
    "    filename = name+'.txt'\n",
    "    fileMyDetails = open(filename,\"w+\")\n",
    "    fileMyDetails.write(\"name\\t:\\t\"+name)\n",
    "    fileMyDetails.write(\"\\nphone\\t:\\t\"+phone)\n",
    "    fileMyDetails.write(\"\\nemail\\t:\\t\"+email)\n",
    "    fileMyDetails.close()\n",
    "    \n",
    "name = input(\"enter your name: \")\n",
    "phone = input(\"enter your phone number: \")\n",
    "email = input(\"enter your email: \")\n",
    "WriteMyDetails(name,phone,email)\n",
    "\n",
    "file=open(name+\".txt\",\"r+\")\n",
    "file_lines =file.readlines()\n",
    "for line in file_lines:\n",
    "    print(line)\n",
    "      "
   ]
  },
  {
   "cell_type": "code",
   "execution_count": 7,
   "metadata": {},
   "outputs": [],
   "source": [
    "with open(\"orders.txt\",\"w+\")as file:\n",
    "    itemname = input(\"item name\")\n",
    "    qty= input(\"quantity\")\n",
    "    price =input(\"price\")\n",
    "    str_to_save = itemname+\",\"+qty+\",\"+price+\"\\n\"\n",
    "    file.write(str_to_save)"
   ]
  },
  {
   "cell_type": "code",
   "execution_count": 8,
   "metadata": {},
   "outputs": [
    {
     "name": "stdout",
     "output_type": "stream",
     "text": [
      "['biriyani', '2', '200']\n"
     ]
    }
   ],
   "source": [
    "for line in open(\"orders.txt\").readlines():\n",
    "    orderdetalis = line.strip().split(',')\n",
    "    print(orderdetalis)\n",
    "\n"
   ]
  },
  {
   "cell_type": "markdown",
   "metadata": {},
   "source": [
    "# While Loop"
   ]
  },
  {
   "cell_type": "code",
   "execution_count": null,
   "metadata": {},
   "outputs": [],
   "source": [
    "a=0\n",
    "while a<5:\n",
    "    print(a)\n",
    "    a = a+1\n",
    "    a += 1"
   ]
  },
  {
   "cell_type": "markdown",
   "metadata": {},
   "source": [
    "# break | pass | Continue\n"
   ]
  },
  {
   "cell_type": "code",
   "execution_count": 3,
   "metadata": {},
   "outputs": [
    {
     "name": "stdout",
     "output_type": "stream",
     "text": [
      "1\n",
      "2\n",
      "3\n",
      "4\n"
     ]
    }
   ],
   "source": [
    "for item in range(1,20,1):\n",
    "    if item == 5:\n",
    "        break\n",
    "    print(item)\n"
   ]
  },
  {
   "cell_type": "code",
   "execution_count": 4,
   "metadata": {},
   "outputs": [
    {
     "name": "stdout",
     "output_type": "stream",
     "text": [
      "1\n",
      "2\n",
      "3\n",
      "4\n",
      "5\n",
      "6\n",
      "7\n",
      "8\n",
      "9\n",
      "10\n",
      "11\n",
      "12\n",
      "13\n",
      "14\n",
      "15\n",
      "16\n",
      "17\n",
      "18\n",
      "19\n"
     ]
    }
   ],
   "source": [
    "for item in range(1,20,1):\n",
    "    if item == 5:\n",
    "        pass\n",
    "    print(item)\n"
   ]
  },
  {
   "cell_type": "code",
   "execution_count": 5,
   "metadata": {},
   "outputs": [
    {
     "name": "stdout",
     "output_type": "stream",
     "text": [
      "1\n",
      "2\n",
      "3\n",
      "4\n",
      "6\n",
      "7\n",
      "8\n",
      "9\n",
      "10\n",
      "11\n",
      "12\n",
      "13\n",
      "14\n",
      "15\n",
      "16\n",
      "17\n",
      "18\n",
      "19\n"
     ]
    }
   ],
   "source": [
    "for item in range(1,20,1):\n",
    "    if item == 5:\n",
    "        continue\n",
    "    print(item)\n"
   ]
  },
  {
   "cell_type": "code",
   "execution_count": 7,
   "metadata": {},
   "outputs": [],
   "source": [
    "#if condition:\n",
    " #   if condition:\n",
    "  #      print(\"\")\n",
    "   # else:\n",
    "    #    pass\n",
    "#else:\n",
    " #   pass        "
   ]
  },
  {
   "cell_type": "code",
   "execution_count": 8,
   "metadata": {},
   "outputs": [
    {
     "name": "stdout",
     "output_type": "stream",
     "text": [
      "{'Banana', 'Pineapple', 'Apple', 'Orange'}\n"
     ]
    }
   ],
   "source": [
    "list_ex = [\"Apple\",\"Pineapple\",\"Banana\",\"Apple\",\"Apple\",\"Orange\"]\n",
    "print(set(list_ex))"
   ]
  },
  {
   "cell_type": "code",
   "execution_count": 9,
   "metadata": {},
   "outputs": [
    {
     "name": "stdout",
     "output_type": "stream",
     "text": [
      "Banana\n",
      "Pineapple\n",
      "Apple\n",
      "Orange\n"
     ]
    }
   ],
   "source": [
    "list_ex = [\"Apple\",\"Pineapple\",\"Banana\",\"Apple\",\"Apple\",\"Orange\"]\n",
    "set_ex =set(list_ex)\n",
    "for item in set_ex:\n",
    "    print(item)"
   ]
  },
  {
   "cell_type": "code",
   "execution_count": 11,
   "metadata": {},
   "outputs": [
    {
     "name": "stdout",
     "output_type": "stream",
     "text": [
      "<class 'list'>\n",
      "<class 'set'>\n",
      "<class 'list'>\n"
     ]
    }
   ],
   "source": [
    "list_ex = [\"Apple\",\"Pineapple\",\"Banana\",\"Apple\",\"Apple\",\"Orange\"]\n",
    "set_ex =set(list_ex)\n",
    "back_to_list = list(set_ex)\n",
    "#for item in set_ex:\n",
    "#    print(item)\n",
    "\n",
    "print(type(list_ex))\n",
    "print(type(set_ex))\n",
    "print(type(back_to_list))"
   ]
  },
  {
   "cell_type": "markdown",
   "metadata": {},
   "source": [
    "# Write a programe to accept 10 random strings identify the unique items and their count"
   ]
  },
  {
   "cell_type": "code",
   "execution_count": 12,
   "metadata": {},
   "outputs": [
    {
     "name": "stdout",
     "output_type": "stream",
     "text": [
      "\n",
      "Unique Strings and Their Counts:\n",
      "apple: 3\n",
      "orange: 1\n",
      "tea: 2\n",
      "coffee: 1\n",
      "swweet: 1\n",
      "swwert: 1\n",
      "jivr: 1\n"
     ]
    }
   ],
   "source": [
    "unique_strings = {}\n",
    "\n",
    "# Accept 10 random strings from the user\n",
    "for i in range(10):\n",
    "    user_input = input(f\"Enter string {i + 1}: \")\n",
    "    \n",
    "    # Check if the string is already in the dictionary\n",
    "    if user_input in unique_strings:\n",
    "        # If it's already in the dictionary, increment the count\n",
    "        unique_strings[user_input] += 1\n",
    "    else:\n",
    "        # If it's not in the dictionary, add it with a count of 1\n",
    "        unique_strings[user_input] = 1\n",
    "\n",
    "# Print the unique strings and their counts\n",
    "print(\"\\nUnique Strings and Their Counts:\")\n",
    "for string, count in unique_strings.items():\n",
    "    print(f\"{string}: {count}\")\n"
   ]
  },
  {
   "cell_type": "code",
   "execution_count": 13,
   "metadata": {},
   "outputs": [
    {
     "name": "stdout",
     "output_type": "stream",
     "text": [
      "MANGO is present  2  times.\n",
      "GUAVA is present  1  times.\n",
      "BANANA is present  2  times.\n",
      "ORANGE is present  1  times.\n",
      "APPLE is present  4  times.\n"
     ]
    }
   ],
   "source": [
    "list_ex = []\n",
    "for item in range(0,10,1):\n",
    "    val =input(\"entervalue: \")\n",
    "    val = val.strip()\n",
    "    val = val.upper()\n",
    "    list_ex.append(val)\n",
    "\n",
    "unique = set(list_ex) \n",
    "for item in unique:\n",
    "    count = 0\n",
    "    for val in list_ex:\n",
    "        if item ==val:\n",
    "            count+=1\n",
    "    print(item,\"is present \",count,\" times.\")        \n"
   ]
  },
  {
   "cell_type": "markdown",
   "metadata": {},
   "source": [
    "# Dictionary"
   ]
  },
  {
   "cell_type": "code",
   "execution_count": 1,
   "metadata": {},
   "outputs": [],
   "source": [
    "my_dict ={\"Names\":\"Souvik\",\"Age\": 24,\"Booleanval\": True}"
   ]
  },
  {
   "cell_type": "code",
   "execution_count": 4,
   "metadata": {},
   "outputs": [
    {
     "name": "stdout",
     "output_type": "stream",
     "text": [
      "{'Names': 'Souvik', 'Age': 24, 'Booleanval': True}\n"
     ]
    }
   ],
   "source": [
    "print(my_dict)"
   ]
  },
  {
   "cell_type": "code",
   "execution_count": 6,
   "metadata": {},
   "outputs": [
    {
     "name": "stdout",
     "output_type": "stream",
     "text": [
      "Souvik\n"
     ]
    }
   ],
   "source": [
    "print(my_dict[\"Names\"])"
   ]
  },
  {
   "cell_type": "code",
   "execution_count": 7,
   "metadata": {},
   "outputs": [
    {
     "name": "stdout",
     "output_type": "stream",
     "text": [
      "{'Names': 'NEW NAME', 'Age': 24, 'Booleanval': True}\n"
     ]
    }
   ],
   "source": [
    "my_dict[\"Names\"] = \"NEW NAME\"\n",
    "print(my_dict)"
   ]
  },
  {
   "cell_type": "code",
   "execution_count": 8,
   "metadata": {},
   "outputs": [
    {
     "name": "stdout",
     "output_type": "stream",
     "text": [
      "{'Names': 'NEW NAME', 'Age': 24, 'Booleanval': True, 'Phone': 8250502870}\n"
     ]
    }
   ],
   "source": [
    "my_dict[\"Phone\"] = 8250502870\n",
    "print(my_dict)"
   ]
  },
  {
   "cell_type": "code",
   "execution_count": 9,
   "metadata": {},
   "outputs": [
    {
     "data": {
      "text/plain": [
       "dict_values(['NEW NAME', 24, True, 8250502870])"
      ]
     },
     "execution_count": 9,
     "metadata": {},
     "output_type": "execute_result"
    }
   ],
   "source": [
    "my_dict.values()"
   ]
  },
  {
   "cell_type": "code",
   "execution_count": 10,
   "metadata": {},
   "outputs": [
    {
     "name": "stdout",
     "output_type": "stream",
     "text": [
      "dict_values(['NEW NAME', 24, True, 8250502870])\n",
      "NEW NAME\n",
      "24\n",
      "True\n",
      "8250502870\n"
     ]
    }
   ],
   "source": [
    "print(my_dict.values())\n",
    "for item in my_dict.values():\n",
    "    print(item)"
   ]
  },
  {
   "cell_type": "code",
   "execution_count": 11,
   "metadata": {},
   "outputs": [],
   "source": [
    "student ={\n",
    "    \"mscdsa\" :{\n",
    "        \"01\" :{\n",
    "        \"name\" : \"souvik\",\n",
    "        \"phone\" : \"8250502870\"\n",
    "      },\n",
    "       \"02\":{\n",
    "        \"name\" :\"naveen\",\n",
    "        \"phone\" :\"89984329893\"\n",
    "    \n",
    "      }\n",
    "\n",
    "   }\n",
    "}"
   ]
  },
  {
   "cell_type": "code",
   "execution_count": 24,
   "metadata": {},
   "outputs": [
    {
     "name": "stdout",
     "output_type": "stream",
     "text": [
      "souvik \t 8250502870\n",
      "naveen \t 89984329893\n"
     ]
    }
   ],
   "source": [
    "student ={\n",
    "    \"mscdsa\" :{\n",
    "        \"01\" :{\n",
    "        \"name\" : \"souvik\",\n",
    "        \"phone\" : \"8250502870\"\n",
    "      },\n",
    "       \"02\":{\n",
    "        \"name\" :\"naveen\",\n",
    "        \"phone\" :\"89984329893\"\n",
    "    \n",
    "      }\n",
    "\n",
    "   }\n",
    "}\n",
    "print(student[\"mscdsa\"][\"01\"][\"name\"],\"\\t\",student[\"mscdsa\"][\"01\"][\"phone\"])\n",
    "print(student[\"mscdsa\"][\"02\"][\"name\"],\"\\t\",student[\"mscdsa\"][\"02\"][\"phone\"])"
   ]
  },
  {
   "cell_type": "code",
   "execution_count": 30,
   "metadata": {},
   "outputs": [
    {
     "name": "stdout",
     "output_type": "stream",
     "text": [
      "{'roll number': 23122037, 'name': 'Souvik', 'phone': 8250502870, 'email': 'souvikchowdhury@christ.in'}\n",
      "23122037\tSouvik\t8250502870\tsouvikchowdhury@christ.in\t\n",
      "{'roll number': 23122038, 'name': 'fathima', 'email': 'xyz@christ.in'}\n",
      "23122038\tfathima\txyz@christ.in\t\n"
     ]
    }
   ],
   "source": [
    "mscdsa =[\n",
    "    {\n",
    "        \"roll number\":23122037,\n",
    "        \"name\": \"Souvik\",\n",
    "        \"phone\": 8250502870,\n",
    "        \"email\":\"souvikchowdhury@christ.in\",\n",
    "    },\n",
    "    {\n",
    "        \"roll number\": 23122038,\n",
    "        \"name\": \"fathima\",\n",
    "        \"email\":\"xyz@christ.in\",\n",
    "    },\n",
    "]\n",
    "for student in mscdsa:\n",
    "    print(student)\n",
    "    for key in student.keys():\n",
    "        print(student[key],end = \"\\t\")\n",
    "    print()    "
   ]
  },
  {
   "cell_type": "markdown",
   "metadata": {},
   "source": [
    "# while"
   ]
  },
  {
   "cell_type": "code",
   "execution_count": 7,
   "metadata": {},
   "outputs": [
    {
     "name": "stdout",
     "output_type": "stream",
     "text": [
      "******************************\n",
      "name Management - Application\n",
      "******************************\n",
      "******************************\n",
      "*1. Enter a name\n",
      "2. list the name\n",
      "3. Search for a name\n",
      "4. Exit\n",
      "******************************\n",
      "you have entered choice :  1\n",
      "name Souvik added successfully!\n",
      "******************************\n",
      "*1. Enter a name\n",
      "2. list the name\n",
      "3. Search for a name\n",
      "4. Exit\n",
      "******************************\n",
      "you have entered choice :  2\n",
      "******************************\n",
      "Names in the List\n",
      "******************************\n",
      "Souvik\n",
      "******************************\n",
      "******************************\n",
      "*1. Enter a name\n",
      "2. list the name\n",
      "3. Search for a name\n",
      "4. Exit\n",
      "******************************\n",
      "you have entered choice :  3\n",
      "name exist in the list\n",
      "******************************\n",
      "*1. Enter a name\n",
      "2. list the name\n",
      "3. Search for a name\n",
      "4. Exit\n",
      "******************************\n",
      "you have entered choice :  4\n",
      "******************************\n",
      "*1. Enter a name\n",
      "2. list the name\n",
      "3. Search for a name\n",
      "4. Exit\n",
      "******************************\n",
      "you have entered choice :  4\n",
      "******************************\n",
      "*1. Enter a name\n",
      "2. list the name\n",
      "3. Search for a name\n",
      "4. Exit\n",
      "******************************\n",
      "you have entered choice :  1\n",
      "name Naveen added successfully!\n",
      "******************************\n",
      "*1. Enter a name\n",
      "2. list the name\n",
      "3. Search for a name\n",
      "4. Exit\n",
      "******************************\n",
      "you have entered choice :  2\n",
      "******************************\n",
      "Names in the List\n",
      "******************************\n",
      "Souvik\n",
      "Naveen\n",
      "******************************\n",
      "******************************\n",
      "*1. Enter a name\n",
      "2. list the name\n",
      "3. Search for a name\n",
      "4. Exit\n",
      "******************************\n",
      "you have entered choice :  3\n",
      "Name doesnot exist..!\n",
      "******************************\n",
      "*1. Enter a name\n",
      "2. list the name\n",
      "3. Search for a name\n",
      "4. Exit\n",
      "******************************\n",
      "you have entered choice :  4\n",
      "******************************\n",
      "*1. Enter a name\n",
      "2. list the name\n",
      "3. Search for a name\n",
      "4. Exit\n",
      "******************************\n",
      "you have entered choice :  4\n",
      "******************************\n",
      "*1. Enter a name\n",
      "2. list the name\n",
      "3. Search for a name\n",
      "4. Exit\n",
      "******************************\n",
      "you have entered choice :  \n"
     ]
    },
    {
     "ename": "ValueError",
     "evalue": "invalid literal for int() with base 10: ''",
     "output_type": "error",
     "traceback": [
      "\u001b[1;31m---------------------------------------------------------------------------\u001b[0m",
      "\u001b[1;31mValueError\u001b[0m                                Traceback (most recent call last)",
      "\u001b[1;32md:\\Python\\trial3.ipynb Cell 46\u001b[0m line \u001b[0;36m4\n\u001b[0;32m     <a href='vscode-notebook-cell:/d%3A/Python/trial3.ipynb#X65sZmlsZQ%3D%3D?line=37'>38</a>\u001b[0m choice \u001b[39m=\u001b[39m \u001b[39minput\u001b[39m(\u001b[39m\"\u001b[39m\u001b[39menter your choice ?\u001b[39m\u001b[39m\"\u001b[39m)\n\u001b[0;32m     <a href='vscode-notebook-cell:/d%3A/Python/trial3.ipynb#X65sZmlsZQ%3D%3D?line=38'>39</a>\u001b[0m \u001b[39mprint\u001b[39m(\u001b[39m\"\u001b[39m\u001b[39myou have entered choice : \u001b[39m\u001b[39m\"\u001b[39m,choice)\n\u001b[1;32m---> <a href='vscode-notebook-cell:/d%3A/Python/trial3.ipynb#X65sZmlsZQ%3D%3D?line=40'>41</a>\u001b[0m \u001b[39mif\u001b[39;00m \u001b[39mint\u001b[39;49m(choice) \u001b[39m==\u001b[39m \u001b[39m1\u001b[39m:\n\u001b[0;32m     <a href='vscode-notebook-cell:/d%3A/Python/trial3.ipynb#X65sZmlsZQ%3D%3D?line=41'>42</a>\u001b[0m     name \u001b[39m=\u001b[39m storeName()\n\u001b[0;32m     <a href='vscode-notebook-cell:/d%3A/Python/trial3.ipynb#X65sZmlsZQ%3D%3D?line=42'>43</a>\u001b[0m     \u001b[39mprint\u001b[39m(\u001b[39m\"\u001b[39m\u001b[39mname \u001b[39m\u001b[39m{}\u001b[39;00m\u001b[39m added successfully!\u001b[39m\u001b[39m\"\u001b[39m\u001b[39m.\u001b[39mformat(name))\n",
      "\u001b[1;31mValueError\u001b[0m: invalid literal for int() with base 10: ''"
     ]
    },
    {
     "ename": "",
     "evalue": "",
     "output_type": "error",
     "traceback": [
      "\u001b[1;31mThe Kernel crashed while executing code in the the current cell or a previous cell. Please review the code in the cell(s) to identify a possible cause of the failure. Click <a href='https://aka.ms/vscodeJupyterKernelCrash'>here</a> for more info. View Jupyter <a href='command:jupyter.viewOutput'>log</a> for further details."
     ]
    }
   ],
   "source": [
    "nameList = []\n",
    "\n",
    "def storeName():\n",
    "    name = input(\"Enter the name to be saved : \")\n",
    "    name = name.strip().title()\n",
    "    nameList.append(name)\n",
    "    return name\n",
    "def listNames():\n",
    "    print(\"*\"*30)\n",
    "    print(\"Names in the List\")\n",
    "    print(\"*\"*30)\n",
    "    for name in nameList:\n",
    "        print(name)\n",
    "    print(\"*\"*30)\n",
    "def searchName(search):\n",
    "    search = search.strip().title()\n",
    "    found =False\n",
    "    for name in nameList:\n",
    "        if name == search:\n",
    "            found = True\n",
    "            break\n",
    "    if found == True:    \n",
    "        print(\"name exist in the list\")\n",
    "    else:\n",
    "        print(\"Name doesnot exist..!\")\n",
    "\n",
    "print(\"*\"*30)\n",
    "print(\"name Management - Application\")\n",
    "print(\"*\"*30)\n",
    "while True:\n",
    "    print(\"*\"*30)\n",
    "    print(\"*1. Enter a name\")\n",
    "    print(\"2. list the name\")\n",
    "    print(\"3. Search for a name\")\n",
    "    print(\"4. Exit\")\n",
    "    print(\"*\"*30)\n",
    "\n",
    "    choice = input(\"enter your choice ?\")\n",
    "    print(\"you have entered choice : \",choice)\n",
    "\n",
    "    if int(choice) == 1:\n",
    "        name = storeName()\n",
    "        print(\"name {} added successfully!\".format(name))\n",
    "    elif int(choice) == 2:\n",
    "        listNames()\n",
    "    elif int(choice) == 3:\n",
    "        name = input(\"Enter a name to be searched\")\n",
    "        searchName(name)\n",
    "    elif int(choice) == 4:\n",
    "        exit()\n",
    "    else:\n",
    "        print(\"Invalid Option..!\")   \n",
    "         \n",
    "\n"
   ]
  },
  {
   "cell_type": "code",
   "execution_count": null,
   "metadata": {},
   "outputs": [],
   "source": []
  }
 ],
 "metadata": {
  "kernelspec": {
   "display_name": "Python 3",
   "language": "python",
   "name": "python3"
  },
  "language_info": {
   "codemirror_mode": {
    "name": "ipython",
    "version": 3
   },
   "file_extension": ".py",
   "mimetype": "text/x-python",
   "name": "python",
   "nbconvert_exporter": "python",
   "pygments_lexer": "ipython3",
   "version": "3.11.4"
  },
  "orig_nbformat": 4
 },
 "nbformat": 4,
 "nbformat_minor": 2
}
