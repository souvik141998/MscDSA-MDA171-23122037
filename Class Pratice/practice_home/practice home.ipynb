{
 "cells": [
  {
   "cell_type": "code",
   "execution_count": 6,
   "metadata": {},
   "outputs": [
    {
     "name": "stdout",
     "output_type": "stream",
     "text": [
      "{'jiko', 'hebli', 'promita', 'mana', 'luli', 'ankita', 'souvik'}\n"
     ]
    }
   ],
   "source": [
    "list = [\"souvik\",\"promita\",\"luli\",\"jiko\",\"ankita\",\"mana\",\"hebli\",\"promita\"]\n",
    "unique_names =set(list)\n",
    "print(unique_names)"
   ]
  },
  {
   "cell_type": "code",
   "execution_count": 20,
   "metadata": {},
   "outputs": [
    {
     "name": "stdout",
     "output_type": "stream",
     "text": [
      "6\n",
      "3.5\n"
     ]
    }
   ],
   "source": [
    "height=input(\"enter the all heights seperated by space:\")\n",
    "height_list=height.split()\n",
    "count = 0\n",
    "for height in height_list:\n",
    "    count+=1\n",
    "print(count)\n",
    "for i in range(0,count):\n",
    "    height_list[i]=int(height_list[i])\n",
    "\n",
    "total =0\n",
    "for person in height_list:\n",
    "    total += person\n",
    "avg =total/count\n",
    "print(avg)    \n",
    "        "
   ]
  },
  {
   "cell_type": "code",
   "execution_count": 2,
   "metadata": {},
   "outputs": [
    {
     "name": "stdout",
     "output_type": "stream",
     "text": [
      "36.316811075498\n",
      "21.362830044410593\n"
     ]
    }
   ],
   "source": [
    "import math\n",
    "class Circle:\n",
    "   def __init__(self,radius):\n",
    "    self.radius=radius\n",
    "\n",
    "   def calculate_area(self):\n",
    "    return math.pi*self.radius**2\n",
    "\n",
    "   def calculate_parimeter(self):\n",
    "    return math.pi*2*self.radius\n",
    "\n",
    "radius=float(input(\"enter the radius of the circle: \"))\n",
    "circle=Circle(radius)\n",
    "area=circle.calculate_area()\n",
    "parimeter =circle.calculate_parimeter()\n",
    "\n",
    "print(area)\n",
    "print(parimeter)"
   ]
  },
  {
   "cell_type": "code",
   "execution_count": 9,
   "metadata": {},
   "outputs": [
    {
     "name": "stdout",
     "output_type": "stream",
     "text": [
      "7 12 -1\n"
     ]
    }
   ],
   "source": [
    "class Calculater:\n",
    "    def addition(self,x,y):\n",
    "        return x+y\n",
    "    def substraction(self,x,y):\n",
    "        return x-y\n",
    "    def multiplication(self,x,y):\n",
    "        return x*y\n",
    "    def division(self,x,y):\n",
    "        if y!=0:\n",
    "            return x/y\n",
    "        else:\n",
    "            print(\"impossible\")\n",
    "\n",
    "numbers =input(\"enter the two numbers comma seperated in:\")\n",
    "numbers1=numbers.split(',')\n",
    "calculator =Calculater()\n",
    "addition_of_the_numbers= calculator.addition(int(numbers1[0]),int(numbers1[1]))\n",
    "multiplication_of_the_numbers= calculator.multiplication(int(numbers1[0]),int(numbers1[1]))\n",
    "substraction_of_the_numbers = calculator.substraction(int(numbers1[0]),int(numbers1[1]))\n",
    "\n",
    "print(addition_of_the_numbers,multiplication_of_the_numbers,substraction_of_the_numbers)\n"
   ]
  },
  {
   "cell_type": "code",
   "execution_count": null,
   "metadata": {},
   "outputs": [],
   "source": [
    "\n",
    "class Senses:\n",
    "\n",
    "    def _init_(self):\n",
    "        self.complaints = []\n",
    "\n",
    "    def register(self,status):\n",
    "        n = int(input('Enter the number of customers: '))\n",
    "\n",
    "        for i in range(0,n):\n",
    "            name = input('Ente rth ename')\n",
    "            phone = input('Enter the phone')\n",
    "            complaint = input('Enter the complaint: ')\n",
    "\n",
    "            temp ={\n",
    "                'Customer Nmae' : name ,\n",
    "                'Phone' : phone,\n",
    "                'Status' : status,\n",
    "                'Complaint' : complaint\n",
    "\n",
    "            }\n",
    "\n",
    "            self.complaints.append(temp)\n",
    "\n",
    "        print(self.complaints)\n",
    "\n",
    "    def search(self):\n",
    "        n = input('Enter the customer to be searched: ')\n",
    "\n",
    "        for item in self.complaints:\n",
    "            if item['Customer Nmae'] == n:\n",
    "                print('Customer found')\n",
    "\n",
    "    def update(self):\n",
    "        n = input('Enter the customer to be searched: ')\n",
    "\n",
    "        for item in self.complaints:\n",
    "            if item['Customer Nmae'] == n:\n",
    "                item['Status'] = 'Resolved'\n",
    "\n",
    "obj = Senses()\n",
    "\n",
    "while True:\n",
    "    print('1. Register')\n",
    "    print('2. Search')\n",
    "    print('3. update')\n",
    "    print('4. exit')\n",
    "\n",
    "    choice = int(input('Enter your chocie: '))\n",
    "\n",
    "    if choice == 1:\n",
    "        obj.register('Unresolved')\n",
    "    elif choice == 2:\n",
    "        obj.search()\n",
    "    elif choice == 3:\n",
    "        obj.update()\n",
    "    elif choice == 4:\n",
    "        exit()\n",
    "\n",
    "\n",
    "\n",
    "\n",
    "obj = Senses()\n",
    "obj.register('Unresolved')\n",
    "obj.search()\n",
    "obj.update()"
   ]
  },
  {
   "cell_type": "code",
   "execution_count": null,
   "metadata": {},
   "outputs": [],
   "source": [
    "arr = []\n",
    "def add_item(arr , name):\n",
    "    name.append(arr)\n",
    "\n",
    "def print_(arr):\n",
    "    print(arr)\n",
    "\n",
    "def search_list(name , arr):\n",
    "    if name in arr:\n",
    "        print(\"Element found in the list\")\n",
    "    else:\n",
    "        print(\"Element not in the list.\")\n",
    "\n",
    "def exit_():\n",
    "    exit()\n",
    "\n",
    "while True:\n",
    "    print(\"1. Enter name:\")\n",
    "    print(\"2. Print\")\n",
    "    print(\"3. search element\")\n",
    "    print(\"4. Exit\")\n",
    "\n",
    "    choice = int(input(\"Enter the choice: \"))\n",
    "\n",
    "    if choice == 1:\n",
    "        name = input(\"Enter the name: \")\n",
    "        add_item(name,arr)\n",
    "    if choice == 2:\n",
    "        print_(arr)\n",
    "    if choice == 3:\n",
    "        name = input(\"Enter the name to be searched: \")\n",
    "        search_list(name , arr)\n",
    "    if choice == 4:\n",
    "        print(\"Thankyou visit again\")\n",
    "        exit_()"
   ]
  },
  {
   "cell_type": "code",
   "execution_count": 12,
   "metadata": {},
   "outputs": [
    {
     "name": "stdout",
     "output_type": "stream",
     "text": [
      "1.enter name: \n",
      "2.print\n",
      "3.search the name\n",
      "4.exit\n",
      "1.enter name: \n",
      "2.print\n",
      "3.search the name\n",
      "4.exit\n",
      "['naveen']\n",
      "1.enter name: \n",
      "2.print\n",
      "3.search the name\n",
      "4.exit\n"
     ]
    },
    {
     "ename": "ValueError",
     "evalue": "invalid literal for int() with base 10: ''",
     "output_type": "error",
     "traceback": [
      "\u001b[1;31m---------------------------------------------------------------------------\u001b[0m",
      "\u001b[1;31mValueError\u001b[0m                                Traceback (most recent call last)",
      "\u001b[1;32md:\\Python\\practice_home\\practice home.ipynb Cell 9\u001b[0m line \u001b[0;36m2\n\u001b[0;32m     <a href='vscode-notebook-cell:/d%3A/Python/practice_home/practice%20home.ipynb#X11sZmlsZQ%3D%3D?line=18'>19</a>\u001b[0m \u001b[39mprint\u001b[39m(\u001b[39m\"\u001b[39m\u001b[39m3.search the name\u001b[39m\u001b[39m\"\u001b[39m)\n\u001b[0;32m     <a href='vscode-notebook-cell:/d%3A/Python/practice_home/practice%20home.ipynb#X11sZmlsZQ%3D%3D?line=19'>20</a>\u001b[0m \u001b[39mprint\u001b[39m(\u001b[39m\"\u001b[39m\u001b[39m4.exit\u001b[39m\u001b[39m\"\u001b[39m)\n\u001b[1;32m---> <a href='vscode-notebook-cell:/d%3A/Python/practice_home/practice%20home.ipynb#X11sZmlsZQ%3D%3D?line=21'>22</a>\u001b[0m choice\u001b[39m=\u001b[39m\u001b[39mint\u001b[39;49m(\u001b[39minput\u001b[39;49m(\u001b[39m\"\u001b[39;49m\u001b[39menter the choice: \u001b[39;49m\u001b[39m\"\u001b[39;49m))\n\u001b[0;32m     <a href='vscode-notebook-cell:/d%3A/Python/practice_home/practice%20home.ipynb#X11sZmlsZQ%3D%3D?line=23'>24</a>\u001b[0m \u001b[39mif\u001b[39;00m choice\u001b[39m==\u001b[39m\u001b[39m1\u001b[39m:\n\u001b[0;32m     <a href='vscode-notebook-cell:/d%3A/Python/practice_home/practice%20home.ipynb#X11sZmlsZQ%3D%3D?line=24'>25</a>\u001b[0m     name \u001b[39m=\u001b[39m\u001b[39minput\u001b[39m(\u001b[39m\"\u001b[39m\u001b[39menter the name:\u001b[39m\u001b[39m\"\u001b[39m)\n",
      "\u001b[1;31mValueError\u001b[0m: invalid literal for int() with base 10: ''"
     ]
    }
   ],
   "source": [
    "list=[]\n",
    "def Adding_name(name,list):\n",
    "    list.append(name)\n",
    "\n",
    "def print_the_list(list):\n",
    "    print(list)\n",
    "\n",
    "def search_list(name,list):\n",
    "    if name in list:\n",
    "        print(\"name already in the list\")\n",
    "    else:\n",
    "        print(\"element not in the list\")\n",
    "def exit_function():\n",
    "    exit()\n",
    "\n",
    "while True:\n",
    "    print(\"1.enter name: \")\n",
    "    print(\"2.print\")\n",
    "    print(\"3.search the name\")\n",
    "    print(\"4.exit\")\n",
    "\n",
    "    choice=int(input(\"enter the choice: \"))\n",
    "    \n",
    "    if choice==1:\n",
    "        name =input(\"enter the name:\")\n",
    "        Adding_name(name,list)\n",
    "\n",
    "\n",
    "    if choice==2:\n",
    "        print_the_list(list)\n",
    "    if choice==3:\n",
    "        name=input(\"enter the name for searching: \")  \n",
    "        search_list (name,list)\n",
    "    if choice==4:\n",
    "        exit_function()     \n",
    "    \n",
    "\n",
    "           "
   ]
  },
  {
   "cell_type": "code",
   "execution_count": 1,
   "metadata": {},
   "outputs": [
    {
     "name": "stdout",
     "output_type": "stream",
     "text": [
      "Preeti Srivastava  is the name of the teacher.\n",
      "Chhavi Pathak  is the name of the teacher.\n"
     ]
    }
   ],
   "source": [
    "class Teacher:\n",
    "    # definition for init method or constructor with default argument\n",
    "    def __init__(self, name = \"Preeti Srivastava\"):\n",
    "        self.name = name\n",
    "     # Random member function\n",
    "    def show(self):\n",
    "        print(self.name, \" is the name of the teacher.\")\n",
    "        \n",
    "t1 = Teacher()                             #name is initialised with the default value of the argument\n",
    "t2 = Teacher('Chhavi Pathak')    #name is initialised with the passed value of the argument\n",
    "t1.show()\n",
    "t2.show()\n"
   ]
  },
  {
   "cell_type": "code",
   "execution_count": 3,
   "metadata": {},
   "outputs": [
    {
     "name": "stdout",
     "output_type": "stream",
     "text": [
      "Sum is  14\n"
     ]
    }
   ],
   "source": [
    "class Default():\n",
    "    \n",
    "    #defining parameterised constructor\n",
    "    def __init__(self, n1, n2):\n",
    "        self.var1 = n1\n",
    "        self.var2 = n2\n",
    "        \n",
    "    #class function for addition\n",
    "    def add(self):\n",
    "        print(\"Sum is \", self.var1 + self.var2)\n",
    "\n",
    "obj = Default(1, 13)              #Creating object for a class with parameterised init\n",
    "obj.add()"
   ]
  },
  {
   "cell_type": "code",
   "execution_count": 7,
   "metadata": {},
   "outputs": [
    {
     "name": "stdout",
     "output_type": "stream",
     "text": [
      "Sum is  59\n"
     ]
    }
   ],
   "source": [
    "class Default():\n",
    "    \n",
    "    #defining default constructor\n",
    "    def __init__(self):\n",
    "        self.var1 = 32\n",
    "        self.var2 = 27\n",
    "        \n",
    "    #class function for addition\n",
    "    def add(self):\n",
    "        print(\"Sum is \", self.var1 + self.var2)\n",
    "\n",
    "obj = Default()     # since default constructor doesn’t take any argument\n",
    "obj.add()"
   ]
  },
  {
   "cell_type": "code",
   "execution_count": null,
   "metadata": {},
   "outputs": [],
   "source": []
  }
 ],
 "metadata": {
  "kernelspec": {
   "display_name": "Python 3",
   "language": "python",
   "name": "python3"
  },
  "language_info": {
   "codemirror_mode": {
    "name": "ipython",
    "version": 3
   },
   "file_extension": ".py",
   "mimetype": "text/x-python",
   "name": "python",
   "nbconvert_exporter": "python",
   "pygments_lexer": "ipython3",
   "version": "3.11.4"
  }
 },
 "nbformat": 4,
 "nbformat_minor": 2
}
