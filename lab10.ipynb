{
 "cells": [
  {
   "cell_type": "code",
   "execution_count": 3,
   "metadata": {},
   "outputs": [
    {
     "name": "stdout",
     "output_type": "stream",
     "text": [
      "\n",
      "Menu:\n",
      "1. Add Student Details and Marks\n",
      "2. Display Student Details and Marks\n",
      "3. Exit\n"
     ]
    },
    {
     "ename": "ValueError",
     "evalue": "invalid literal for int() with base 10: 'math'",
     "output_type": "error",
     "traceback": [
      "\u001b[1;31m---------------------------------------------------------------------------\u001b[0m",
      "\u001b[1;31mValueError\u001b[0m                                Traceback (most recent call last)",
      "\u001b[1;32md:\\Python\\git\\MscDSA-MDA171-23122037\\lab10.ipynb Cell 1\u001b[0m line \u001b[0;36m3\n\u001b[0;32m     <a href='vscode-notebook-cell:/d%3A/Python/git/MscDSA-MDA171-23122037/lab10.ipynb#W0sZmlsZQ%3D%3D?line=32'>33</a>\u001b[0m roll_number \u001b[39m=\u001b[39m \u001b[39minput\u001b[39m(\u001b[39m\"\u001b[39m\u001b[39mEnter student roll number: \u001b[39m\u001b[39m\"\u001b[39m)\n\u001b[0;32m     <a href='vscode-notebook-cell:/d%3A/Python/git/MscDSA-MDA171-23122037/lab10.ipynb#W0sZmlsZQ%3D%3D?line=33'>34</a>\u001b[0m student \u001b[39m=\u001b[39m Student(name, roll_number)\n\u001b[1;32m---> <a href='vscode-notebook-cell:/d%3A/Python/git/MscDSA-MDA171-23122037/lab10.ipynb#W0sZmlsZQ%3D%3D?line=35'>36</a>\u001b[0m num_subjects \u001b[39m=\u001b[39m \u001b[39mint\u001b[39;49m(\u001b[39minput\u001b[39;49m(\u001b[39m\"\u001b[39;49m\u001b[39mEnter the number of subjects: \u001b[39;49m\u001b[39m\"\u001b[39;49m))\n\u001b[0;32m     <a href='vscode-notebook-cell:/d%3A/Python/git/MscDSA-MDA171-23122037/lab10.ipynb#W0sZmlsZQ%3D%3D?line=36'>37</a>\u001b[0m \u001b[39mfor\u001b[39;00m _ \u001b[39min\u001b[39;00m \u001b[39mrange\u001b[39m(num_subjects):\n\u001b[0;32m     <a href='vscode-notebook-cell:/d%3A/Python/git/MscDSA-MDA171-23122037/lab10.ipynb#W0sZmlsZQ%3D%3D?line=37'>38</a>\u001b[0m     subject \u001b[39m=\u001b[39m \u001b[39minput\u001b[39m(\u001b[39m\"\u001b[39m\u001b[39mEnter subject name: \u001b[39m\u001b[39m\"\u001b[39m)\n",
      "\u001b[1;31mValueError\u001b[0m: invalid literal for int() with base 10: 'math'"
     ]
    }
   ],
   "source": [
    "class Student:\n",
    "    def __init__(self, name, roll_number):\n",
    "        self.name = name\n",
    "        self.roll_number = roll_number\n",
    "        self.marks = {}\n",
    "\n",
    "    def add_mark(self, subject, mark):\n",
    "        setattr(self, subject, mark)\n",
    "        self.marks[subject] = mark\n",
    "\n",
    "    def get_mark(self, subject):\n",
    "        return self.marks.get(subject, \"Subject not found\")\n",
    "\n",
    "    def display_details(self):\n",
    "        print(\"Name:\", self.name)\n",
    "        print(\"Roll Number:\", self.roll_number)\n",
    "        print(\"Marks\")\n",
    "        for subject, mark in self.marks.items():\n",
    "            print(f\"{subject}: {mark}\")\n",
    "\n",
    "# Dictionary to store student objects with roll numbers as keys\n",
    "students = {}\n",
    "\n",
    "while True:\n",
    "    print(\"\\nMenu:\")\n",
    "    print(\"1. Add Student Details and Marks\")\n",
    "    print(\"2. Display Student Details and Marks\")\n",
    "    print(\"3. Exit\")\n",
    "    choice = input(\"Enter your choice: \")\n",
    "\n",
    "    if choice == \"1\":\n",
    "        name = input(\"Enter student name: \")\n",
    "        roll_number = input(\"Enter student roll number: \")\n",
    "        student = Student(name, roll_number)\n",
    "\n",
    "        num_subjects = int(input(\"Enter the number of subjects: \"))\n",
    "        for _ in range(num_subjects):\n",
    "            subject = input(\"Enter subject name: \")\n",
    "            mark = int(input(f\"Enter mark for {subject}: \"))\n",
    "            student.add_mark(subject, mark)\n",
    "\n",
    "        students[roll_number] = student\n",
    "        print(\"Student details and marks added successfully.\")\n",
    "\n",
    "    elif choice == \"2\":\n",
    "        roll_number = input(\"Enter student roll number: \")\n",
    "        student = students.get(roll_number)\n",
    "        if student:\n",
    "            student.display_details()\n",
    "        else:\n",
    "            print(\"Student not found.\")\n",
    "\n",
    "    elif choice == \"3\":\n",
    "        print(\"Goodbye!\")\n",
    "        break\n",
    "\n",
    "    else:\n",
    "        print(\"Invalid choice. Please try again.\")\n",
    "\n"
   ]
  },
  {
   "cell_type": "code",
   "execution_count": null,
   "metadata": {},
   "outputs": [],
   "source": []
  }
 ],
 "metadata": {
  "kernelspec": {
   "display_name": "Python 3",
   "language": "python",
   "name": "python3"
  },
  "language_info": {
   "codemirror_mode": {
    "name": "ipython",
    "version": 3
   },
   "file_extension": ".py",
   "mimetype": "text/x-python",
   "name": "python",
   "nbconvert_exporter": "python",
   "pygments_lexer": "ipython3",
   "version": "3.11.4"
  }
 },
 "nbformat": 4,
 "nbformat_minor": 2
}
