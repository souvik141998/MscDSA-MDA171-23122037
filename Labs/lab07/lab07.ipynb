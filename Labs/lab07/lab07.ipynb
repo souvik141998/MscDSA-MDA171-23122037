{
 "cells": [
  {
   "cell_type": "code",
   "execution_count": 4,
   "metadata": {},
   "outputs": [],
   "source": [
    "import random\n",
    "import csv\n",
    "menu = [\n",
    "    [\"Briyani\", 300],\n",
    "    [\"Chicken Chap\", 190],\n",
    "    [\"Chicken Tandoor\", 250],\n",
    "    [\"Egg Roll\", 60],\n",
    "    [\"Burger\", 60],\n",
    "    [\"Paneer Pizza\", 180],\n",
    "    [\"Chicken Pizza\", 200],\n",
    "    [\"Cold Drinks\", 40],\n",
    "    [\"Ice Cream\", 200],\n",
    "    [\"Pan\", 30]\n",
    "]"
   ]
  },
  {
   "cell_type": "code",
   "execution_count": 5,
   "metadata": {},
   "outputs": [],
   "source": [
    "def generate_order_id():\n",
    "    # Initialize an empty string to store the order ID digits\n",
    "    order_id_digits = \"\"\n",
    "\n",
    "    # Generate 5 random digits and concatenate them to the order_id_digits string\n",
    "    for i in range(5):\n",
    "        order_id_digits += str(random.randint(0, 9))\n",
    "\n",
    "    # Convert the concatenated string of digits to an integer to form the final order ID\n",
    "    order_id = int(order_id_digits)\n",
    "\n",
    "    # Return the generated order ID\n",
    "    return order_id"
   ]
  },
  {
   "cell_type": "code",
   "execution_count": 6,
   "metadata": {},
   "outputs": [],
   "source": [
    "def create_order(menu, order_id):\n",
    "    # Prompt the user for the number of items to order\n",
    "    num_items_to_order = int(input(\"How many items do you want to order? \"))\n",
    "\n",
    "    # Initialize an empty list to store the ordered items\n",
    "    items = []\n",
    "\n",
    "    # Display the menu to the user\n",
    "    print(\"Menu:\")\n",
    "    for i in range(len(menu)):\n",
    "        item_name, item_price = menu[i]\n",
    "        print(str(i + 1) + \".\" + item_name + \" - Price \" + str(item_price))\n",
    "\n",
    "    # Prompt the user to select items and enter quantities\n",
    "    for i in range(num_items_to_order):\n",
    "        item_number = int(input(\"Enter the item number you want to order: \"))\n",
    "\n",
    "        # Check if the entered item number is valid\n",
    "        if 1 <= item_number <= len(menu):\n",
    "            quantity = int(input(\"Enter the quantity for this item: \"))\n",
    "            items.append({\n",
    "                \"Item Number\": item_number,\n",
    "                \"Quantity\": quantity\n",
    "            })\n",
    "        else:\n",
    "            print(\"Invalid item number. Please try again.\")\n",
    "            return None\n",
    "\n",
    "    # Create the order with order ID and ordered items\n",
    "    order = {\n",
    "        \"OrderID\": order_id,\n",
    "        \"items\": items\n",
    "    }\n",
    "\n",
    "    # Display the order details to the user\n",
    "    print(\"Order Details:\")\n",
    "    print(order)\n",
    "\n",
    "    # Return the order\n",
    "    return order"
   ]
  },
  {
   "cell_type": "code",
   "execution_count": 7,
   "metadata": {},
   "outputs": [],
   "source": [
    "def calculate_total_bill(menu, order):\n",
    "    # Retrieve the list of items from the order\n",
    "    items = order[\"items\"]\n",
    "    \n",
    "    # Initialize a variable to store the total bill\n",
    "    total_bill = 0\n",
    "\n",
    "    # Iterate over each item in the order\n",
    "    for item in items:\n",
    "        item_number = item[\"Item Number\"]\n",
    "        quantity = item[\"Quantity\"]\n",
    "        # Retrieve item name and price from the menu (adjust for 0-based indexing)\n",
    "        item_name, item_price = menu[item_number - 1]\n",
    "        # Calculate the total cost for this item and add to the total bill\n",
    "        item_total = item_price * quantity\n",
    "        total_bill += item_total\n",
    "\n",
    "    # Retrieve the order ID\n",
    "    order_id = order[\"OrderID\"]\n",
    "    \n",
    "    # Print the total bill for the order\n",
    "    print(\"Total bill for Order ID: \" + str(order_id) + \": Price \" + str(total_bill))\n",
    "\n",
    "    # Return the total bill\n",
    "    return total_bill"
   ]
  },
  {
   "cell_type": "code",
   "execution_count": 8,
   "metadata": {},
   "outputs": [],
   "source": [
    "def write_csv(order, menu):\n",
    "    # Define the filename for the CSV file using a specific pattern incorporating order ID\n",
    "    filename = \"23122037_order_details.csv\"\n",
    "\n",
    "    # Open the CSV file for writing\n",
    "    with open(filename, mode='w', newline='') as file:\n",
    "        # Create a CSV writer\n",
    "        writer = csv.writer(file)\n",
    "\n",
    "        # Write the header row with column names\n",
    "        writer.writerow([\"OrderID\", \"Item Name\", \"Quantity\", \"Total Bill\"])\n",
    "\n",
    "        # Retrieve order details\n",
    "        order_id = order[\"OrderID\"]\n",
    "        items = order[\"items\"]\n",
    "\n",
    "        # Iterate over each item in the order\n",
    "        for item in items:\n",
    "            item_number = item[\"Item Number\"]\n",
    "            quantity = item[\"Quantity\"]\n",
    "            # Retrieve item name and price from the menu (adjust for 0-based indexing)\n",
    "            item_name, item_price = menu[item_number - 1]\n",
    "            # Calculate the total cost for this item\n",
    "            item_total = item_price * quantity\n",
    "            # Write a row for the item in the CSV file\n",
    "            writer.writerow([order_id, item_name, quantity, item_total])"
   ]
  },
  {
   "cell_type": "code",
   "execution_count": 10,
   "metadata": {},
   "outputs": [
    {
     "name": "stdout",
     "output_type": "stream",
     "text": [
      "Menu:\n",
      "1.Briyani - Price 300\n",
      "2.Chicken Chap - Price 190\n",
      "3.Chicken Tandoor - Price 250\n",
      "4.Egg Roll - Price 60\n",
      "5.Burger - Price 60\n",
      "6.Paneer Pizza - Price 180\n",
      "7.Chicken Pizza - Price 200\n",
      "8.Cold Drinks - Price 40\n",
      "9.Ice Cream - Price 200\n",
      "10.Pan - Price 30\n",
      "Order Details:\n",
      "{'OrderID': 70736, 'items': [{'Item Number': 1, 'Quantity': 2}, {'Item Number': 3, 'Quantity': 1}]}\n",
      "Total bill for Order ID: 70736: Price 850\n"
     ]
    }
   ],
   "source": [
    "# Example usage\n",
    "order_id = generate_order_id()\n",
    "order = create_order(menu, order_id)\n",
    "total_bill = calculate_total_bill(menu, order)\n",
    "write_csv(order, menu)"
   ]
  },
  {
   "cell_type": "code",
   "execution_count": null,
   "metadata": {},
   "outputs": [],
   "source": []
  },
  {
   "cell_type": "markdown",
   "metadata": {},
   "source": []
  }
 ],
 "metadata": {
  "kernelspec": {
   "display_name": "Python 3",
   "language": "python",
   "name": "python3"
  },
  "language_info": {
   "codemirror_mode": {
    "name": "ipython",
    "version": 3
   },
   "file_extension": ".py",
   "mimetype": "text/x-python",
   "name": "python",
   "nbconvert_exporter": "python",
   "pygments_lexer": "ipython3",
   "version": "3.11.4"
  },
  "orig_nbformat": 4
 },
 "nbformat": 4,
 "nbformat_minor": 2
}
