{
 "cells": [
  {
   "cell_type": "markdown",
   "metadata": {},
   "source": [
    "A Taste of Success: The Restaurant Management System"
   ]
  },
  {
   "cell_type": "code",
   "execution_count": 58,
   "metadata": {},
   "outputs": [
    {
     "data": {
      "text/plain": [
       "True"
      ]
     },
     "execution_count": 58,
     "metadata": {},
     "output_type": "execute_result"
    }
   ],
   "source": [
    "def RMSDetalis(Name,Item,Quantity,Price,Date):\n",
    "    RMSDetalis = open(\"Restaurant Management System\"+\".txt\",\"a+\")   \n",
    "    RMSDetalis.write(\"\\nName\\t:\\t\"+Name)\n",
    "    RMSDetalis.write(\"\\nItem\\t:\\t\"+Item)\n",
    "    RMSDetalis.write(\"\\nQuantity\\t:\\t\"+str(Quantity))\n",
    "    RMSDetalis.write(\"\\nPrice\\t:\\t\"+str(Price))\n",
    "    RMSDetalis.write(\"\\nDate\\t:\\t\"+Date)\n",
    "    RMSDetalis.write(\"\\n-------------------------------------------------------------------------------------------------------------\")\n",
    "    RMSDetalis.close()\n",
    "    return True\n",
    "\n",
    "\n",
    "Name = input(\"Enter the Name: \") \n",
    "Item = input(\"Enter the Item: \")\n",
    "Quantity = int(input(\"Enter the Quantity: \"))\n",
    "Price = int(input(\"Enter the Price: \"))\n",
    "Date = input(\"Enter the Date: \")\n",
    "Bill = Price*Quantity\n",
    "RMSDetalis(Name,Item,Quantity,Bill,Date)\n"
   ]
  },
  {
   "cell_type": "code",
   "execution_count": 59,
   "metadata": {},
   "outputs": [
    {
     "name": "stdout",
     "output_type": "stream",
     "text": [
      "The total number of Items ordered by the Customers is:  23\n"
     ]
    }
   ],
   "source": [
    "total = 0\n",
    "with open(\"Restaurant Management System.txt\",\"r\") as RMSDetalis:\n",
    "    for line in RMSDetalis:\n",
    "        if \"Quantity\" in line:\n",
    "            items = int(line.split(\":\")[1].strip())\n",
    "            total = total + items\n",
    "\n",
    "print(\"The total number of Items ordered by the Customers is: \",total)"
   ]
  },
  {
   "cell_type": "code",
   "execution_count": 61,
   "metadata": {},
   "outputs": [
    {
     "name": "stdout",
     "output_type": "stream",
     "text": [
      "The total sale ordered by the Customers is:  1600\n"
     ]
    }
   ],
   "source": [
    "total = 0\n",
    "with open(\"Restaurant Management System.txt\",\"r\") as RMSDetalis:\n",
    "    for line in RMSDetalis:\n",
    "        if \"Price\" in line:\n",
    "            items = int(line.split(\":\")[1].strip())\n",
    "            total = total + items\n",
    "\n",
    "print(\"The total sale ordered by the Customers is: \",total)"
   ]
  },
  {
   "cell_type": "markdown",
   "metadata": {},
   "source": [
    "In the first function I created a file and stored the information of the customers like name, item, quantity, price and date. Then we took input from the users and then we closed the file. After this input, the function is called and it show the details in the screen. And then we have analyzed the quantity and the total sale of the day. And the output in the screen is being shown."
   ]
  }
 ],
 "metadata": {
  "kernelspec": {
   "display_name": "Python 3",
   "language": "python",
   "name": "python3"
  },
  "language_info": {
   "codemirror_mode": {
    "name": "ipython",
    "version": 3
   },
   "file_extension": ".py",
   "mimetype": "text/x-python",
   "name": "python",
   "nbconvert_exporter": "python",
   "pygments_lexer": "ipython3",
   "version": "3.11.4"
  },
  "orig_nbformat": 4
 },
 "nbformat": 4,
 "nbformat_minor": 2
}
