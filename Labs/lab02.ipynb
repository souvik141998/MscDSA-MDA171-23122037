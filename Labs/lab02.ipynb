{
 "cells": [
  {
   "cell_type": "code",
   "execution_count": 1,
   "metadata": {},
   "outputs": [],
   "source": [
    "Namelist=[]\n",
    "def userinput(Namelist):\n",
    "    p=0 \n",
    "    name=input(\"enter the name\")\n",
    "\n",
    "    if name=='q':\n",
    "        print(\"enter the valid name\")\n",
    "        print(Namelist)\n",
    "    else:\n",
    "        name=name.title()\n",
    "        tname=name\n",
    "        tname=tname.replace(\" \",\"\")\n",
    "        trueorfalse=tname.isalpha()\n",
    "        if name in Namelist:\n",
    "            print(\"the name already exist\")\n",
    "            p=1\n",
    "\n",
    "        if trueorfalse==True and p==0:\n",
    "            Namelist.append(name)\n",
    "            print(\"Name added successfully\")\n",
    "        else:\n",
    "            print(\"Name not saved\")"
   ]
  },
  {
   "cell_type": "code",
   "execution_count": 5,
   "metadata": {},
   "outputs": [
    {
     "name": "stdout",
     "output_type": "stream",
     "text": [
      "enter the valid name\n",
      "['Sukanya', 'Souvik Chowdhury', 'Nilanjana']\n",
      "name which is smallest:  Sukanya\n",
      "name which is largest:  Souvik Chowdhury\n"
     ]
    }
   ],
   "source": [
    "\n",
    " userinput(Namelist)\n",
    " #analysis\n",
    " largest = max(Namelist, key=len)\n",
    " smallest = min(Namelist,key=len)\n",
    " print(\"name which is smallest: \", smallest )\n",
    " print(\"name which is largest: \", largest)"
   ]
  },
  {
   "cell_type": "code",
   "execution_count": null,
   "metadata": {},
   "outputs": [],
   "source": []
  },
  {
   "cell_type": "code",
   "execution_count": null,
   "metadata": {},
   "outputs": [],
   "source": []
  }
 ],
 "metadata": {
  "kernelspec": {
   "display_name": "Python 3",
   "language": "python",
   "name": "python3"
  },
  "language_info": {
   "codemirror_mode": {
    "name": "ipython",
    "version": 3
   },
   "file_extension": ".py",
   "mimetype": "text/x-python",
   "name": "python",
   "nbconvert_exporter": "python",
   "pygments_lexer": "ipython3",
   "version": "3.11.4"
  },
  "orig_nbformat": 4
 },
 "nbformat": 4,
 "nbformat_minor": 2
}
