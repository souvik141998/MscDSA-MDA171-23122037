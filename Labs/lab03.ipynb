{
 "cells": [
  {
   "cell_type": "code",
   "execution_count": null,
   "metadata": {},
   "outputs": [],
   "source": [
    "# 761, 123, 585, 275, 194, 840, 999, 622, 763, 40, 825, 687, 402, 338, 611, 987, 739, 95, 819, 568, 320, 126, 688, 948, 514, 223, 751, 379, 857, 767, 492, 162, 437, 934, 430, 343, 725, 511, 580, 678, 708, 823, 346, 179, 786, 663, 195, 890, 267, 502, 214, 300, 786, 961, 235, 559, 992, 919, 948, 318, 57, 787, 653, 317, 305, 172, 966, 182, 970, 17, 89, 624, 629, 595, 485, 752, 984, 978, 460, 124, 321, 256, 614, 852, 811, 561, 127, 207, 406, 615, 888, 391, 691, 470, 911, 401, 137, 600, 478, 682]\n"
   ]
  },
  {
   "cell_type": "code",
   "execution_count": 68,
   "metadata": {},
   "outputs": [
    {
     "name": "stdout",
     "output_type": "stream",
     "text": [
      "mean =   542.94\n",
      "mimimum_of_this_list =  17\n",
      "maximum_of_the_list =   999\n",
      "The range of the list =  982\n"
     ]
    }
   ],
   "source": [
    "list=[761, 123, 585, 275, 194, 840, 999, 622, 763, 40, 825, 687, 402, 338, 611, 987, 739, 95, 819, 568, 320, 126, 688, 948, 514, 223, 751, 379, 857, 767, 492, 162, 437, 934, 430, 343, 725, 511, 580, 678, 708, 823, 346, 179, 786, 663, 195, 890, 267, 502, 214, 300, 786, 961, 235, 559, 992, 919, 948, 318, 57, 787, 653, 317, 305, 172, 966, 182, 970, 17, 89, 624, 629, 595, 485, 752, 984, 978, 460, 124, 321, 256, 614, 852, 811, 561, 127, 207, 406, 615, 888, 391, 691, 470, 911, 401, 137, 600, 478, 682]\n",
    "\n",
    "def mean(list):\n",
    "    number_of_elements = 0\n",
    "    summation_of_numbers = 0\n",
    "    for elements in list:\n",
    "        number_of_elements = number_of_elements + 1\n",
    "        summation_of_numbers = summation_of_numbers + elements\n",
    "        mean = summation_of_numbers/number_of_elements\n",
    "    print(\"mean =  \" ,mean)\n",
    "    \n",
    "mean(list)  \n",
    "\n",
    "def minimum(list):\n",
    "    minimum_of_this_list = list[0]\n",
    "    for s in list:\n",
    "        if minimum_of_this_list>s:\n",
    "            minimum_of_this_list=s\n",
    "            \n",
    "    print(\"mimimum_of_this_list = \" ,minimum_of_this_list)\n",
    "\n",
    "\n",
    "def maximum(list):\n",
    "    maximum_of_this_list = list[0]\n",
    "    for s in list:\n",
    "        if maximum_of_this_list<s:\n",
    "           maximum_of_this_list =s\n",
    "    print(\"maximum_of_the_list =  \" ,maximum_of_this_list)  \n",
    "\n",
    "def range(list): \n",
    "    minimum_of_the_list=list[0] \n",
    "    maximum_of_the_list=list[0]\n",
    "    for s in list:\n",
    "        if s<minimum_of_the_list:\n",
    "            minimum_of_the_list=s\n",
    "            for p in list:\n",
    "                if p>maximum_of_the_list:\n",
    "                    maximum_of_the_list=p\n",
    "    print(\"The range of the list = \", maximum_of_the_list-minimum_of_the_list)\n",
    "\n",
    "\n",
    "\n",
    "minimum(list)\n",
    "maximum(list)\n",
    "range(list)    \n",
    "\n"
   ]
  },
  {
   "cell_type": "code",
   "execution_count": null,
   "metadata": {},
   "outputs": [],
   "source": []
  }
 ],
 "metadata": {
  "kernelspec": {
   "display_name": "Python 3",
   "language": "python",
   "name": "python3"
  },
  "language_info": {
   "codemirror_mode": {
    "name": "ipython",
    "version": 3
   },
   "file_extension": ".py",
   "mimetype": "text/x-python",
   "name": "python",
   "nbconvert_exporter": "python",
   "pygments_lexer": "ipython3",
   "version": "3.11.4"
  },
  "orig_nbformat": 4
 },
 "nbformat": 4,
 "nbformat_minor": 2
}
